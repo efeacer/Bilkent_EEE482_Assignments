{
 "cells": [
  {
   "cell_type": "markdown",
   "metadata": {},
   "source": [
    "# Question 1"
   ]
  },
  {
   "cell_type": "code",
   "execution_count": 1,
   "metadata": {},
   "outputs": [
    {
     "name": "stderr",
     "output_type": "stream",
     "text": [
      "/Users/user/anaconda3/lib/python3.6/site-packages/h5py/__init__.py:36: FutureWarning: Conversion of the second argument of issubdtype from `float` to `np.floating` is deprecated. In future, it will be treated as `np.float64 == np.dtype(float).type`.\n",
      "  from ._conv import register_converters as _register_converters\n"
     ]
    }
   ],
   "source": [
    "# Necessary imports\n",
    "import numpy as np\n",
    "import matplotlib.pyplot as plt # for plots\n",
    "import h5py # to be able to use v 7.3 .mat file in the Python \n",
    "from scipy.optimize import curve_fit # Python equivalent of lsqcurvefit \n",
    "from scipy.stats import spearmanr #  Spearman correlation coefficient calculation"
   ]
  },
  {
   "cell_type": "code",
   "execution_count": 2,
   "metadata": {},
   "outputs": [
    {
     "name": "stdout",
     "output_type": "stream",
     "text": [
      "QUESTION 1\n",
      "\n"
     ]
    }
   ],
   "source": [
    "# QUESTION 1\n",
    "print('QUESTION 1\\n')"
   ]
  },
  {
   "cell_type": "code",
   "execution_count": 3,
   "metadata": {
    "scrolled": true
   },
   "outputs": [
    {
     "name": "stdout",
     "output_type": "stream",
     "text": [
      "Data associated with resp1:\n",
      " [ 88.51693173  34.4664153   45.8003942   26.40135921  39.93482398\n",
      "  19.17336184  31.98121502  62.7142513   23.22785088  53.96898647\n",
      "  32.50063656  35.52867765  83.92445616  27.52674249  20.81175795\n",
      "  63.18377441  24.21729146  52.12374905  31.44457574  22.28889383\n",
      "   6.68354026  16.15213777  59.77467662  45.80645338  44.05487798\n",
      "  22.50501668   6.17736901  34.9352988   29.80794629  34.05985216\n",
      "  42.07789893  67.68058408  38.54992165  49.43523755  42.20979151\n",
      "  56.7847987   35.13600161  48.85930809  37.86854604  36.81046638\n",
      "  15.68743048  42.70363909  28.8282764   38.53351736  79.01928191\n",
      "  32.29150037  17.26508477  20.09836732  34.05392586  19.25039885\n",
      "  61.90568741  40.82098486  35.46242079  22.6213393   43.24348006\n",
      "   0.          31.38608527  28.61016252   7.9103996   62.23787091\n",
      "  33.66960884  62.09019499  41.13767147  21.3330162   38.67203133\n",
      "  63.90830755  36.60994949  37.83276897  76.2404099   42.33059792\n",
      "  86.20485019  18.21594377  36.11404481  52.25851285  13.46110612\n",
      "  38.71541999  34.79085199  30.26609206  48.52945719  24.38437404\n",
      "  38.72404895  60.07384649  61.70190533  23.80188126  12.73317106\n",
      "  25.60262517  64.55566446  36.01286173  49.85034156   0.\n",
      "  58.11169178  50.31683836  52.6624605   49.11393632  59.06727493\n",
      "  55.26860663  29.33465609   0.          49.23205764  40.21908531\n",
      "   0.           7.98157961  27.9419989   87.92127687  60.27079362\n",
      "  24.14375572  58.63167201  67.44887822  53.89748556  41.85168061\n",
      "  29.59758536  26.37957376  30.82364899  32.67895067  22.25831917\n",
      "  43.53801957  29.64874188  15.30617057  52.85764682  52.11148932\n",
      "  53.07327639  27.44644416  49.65806542  39.08128172  30.98447072\n",
      "  56.76182292  41.21310279  30.9687198   39.04542094  50.07400147\n",
      "  46.84822777  48.21962985  24.4558448   25.01026215  35.2057305\n",
      "  27.43669919  68.1496216   23.76128784  32.06382204  45.96849585\n",
      "  58.21206857  32.54925869  71.0450264   71.02352842  36.49980844\n",
      "  38.38812332  17.00495357  34.85637162  29.1846488   33.2673518\n",
      "  17.60573931  19.62918013   2.83922562  58.62015818  37.01827622\n",
      "  37.6342114   24.63738108  61.42451772  54.36229589  23.29831636\n",
      "  54.63724825  27.93554917  61.76866795  34.75583961 106.00511542\n",
      "  21.58732168  17.50786521  34.44496115  10.60163512  63.21698373\n",
      "  51.29621095  43.86519119  86.21256101  65.62179193   0.\n",
      "  31.24197787  26.34717358   6.76522827  18.46438132  20.02913092\n",
      "  44.06784951  63.36468626  63.82654493  16.19662904  41.60622067\n",
      "  42.41018184  34.06742627   5.47537708  19.75458353  57.00945859\n",
      "  44.62483552  72.34852654  63.65943878  76.78804481  40.53216973\n",
      "  40.20337402  45.18020294  53.50329823  44.39859938  15.54444197] \n",
      "\n",
      "Data associated with resp2:\n",
      " [86.17112022 76.25577935 82.00530641 80.61306249 85.20541662 69.13275155\n",
      " 79.05152449 86.78381237 73.42588628 78.09268093 78.57591231 81.54187124\n",
      " 88.59565689 73.29243999 76.17018425 86.28429574 79.40439607 82.81753203\n",
      " 74.81604425 77.08992404 63.16003578 77.33572781 86.15658182 88.52183059\n",
      " 75.42206971 77.14409023 68.54945772 79.34225591 72.27053628 81.75408916\n",
      " 80.14346459 83.29926793 74.52819416 87.38068386 86.05671324 80.16024373\n",
      " 76.31649718 83.88154093 76.95291152 76.91206343 78.33249044 79.47890851\n",
      " 79.47850617 83.12244215 88.5829883  78.84087082 73.45413743 76.75972569\n",
      " 79.68992181 73.97292102 83.29701413 80.34406348 79.06853115 75.45206264\n",
      " 84.0920597  50.53841728 75.8345592  73.89444748 68.77463482 86.78376996\n",
      " 74.28241089 81.0191936  83.28286152 71.81041289 79.26238456 88.11077322\n",
      " 80.82769887 78.8088804  86.89466332 78.59390354 88.69050122 79.7360833\n",
      " 78.57857937 82.80535082 62.85799767 74.54257018 79.30778754 79.27508435\n",
      " 82.35333107 76.00365655 75.04615228 85.71794898 88.3878556  75.17304453\n",
      " 67.88929371 76.24555149 82.64955522 80.95152525 86.08862078 49.55514913\n",
      " 86.51631614 79.60332222 87.08743296 82.18847505 85.36116788 86.4574825\n",
      " 75.75125213 51.14464552 80.53331769 78.46253105 46.35835479 66.66268783\n",
      " 79.56166386 88.27731997 85.13776695 76.1540856  85.93701363 87.01168988\n",
      " 83.79667795 74.93174325 79.38829152 75.99791044 77.69647743 80.7409301\n",
      " 75.67697914 79.11101665 77.32719479 72.77288572 84.32043475 83.23278645\n",
      " 84.24795433 79.30528451 84.69653691 77.53483433 75.99219965 83.88287203\n",
      " 85.23125054 80.44589472 80.22748794 81.97725139 80.89252705 80.20725568\n",
      " 74.98389533 78.87404922 78.82837181 77.39256256 83.94682394 76.24496862\n",
      " 75.9648684  81.38617401 84.94033546 76.10639872 89.19277917 82.98915981\n",
      " 75.83437056 81.85721972 77.21508852 78.91712086 77.05785805 80.36147008\n",
      " 72.13572648 72.22946437 61.23325687 86.00269165 80.79904111 78.58350356\n",
      " 74.36293798 85.01998835 84.43672007 77.60683871 85.33318788 76.20220217\n",
      " 83.57384996 81.50502248 91.10278832 70.81811342 75.54991539 78.79270139\n",
      " 65.58591262 84.66212371 83.48688358 79.07385698 86.02783442 81.11639955\n",
      " 52.02904285 79.46538971 79.41398474 68.99531636 74.85769724 73.24612208\n",
      " 73.1026996  84.29588432 83.50490267 71.75861256 74.84816427 78.46363576\n",
      " 76.38722162 67.88068946 77.41409111 85.33926455 79.7879417  87.28782026\n",
      " 85.2280967  85.79680701 80.53455316 87.37021229 86.51230983 77.85063324\n",
      " 82.86189537 71.15601276] \n",
      "\n"
     ]
    }
   ],
   "source": [
    "with h5py.File('hw3_data1.mat', 'r') as file:\n",
    "    data_keys = list(file.keys())\n",
    "\n",
    "data = dict()\n",
    "with h5py.File('hw3_data1.mat', 'r') as file:\n",
    "        for key in data_keys:\n",
    "            data[key] = np.array(file[key]).flatten()\n",
    "            print('Data associated with %s:\\n' % key, data[key], '\\n')"
   ]
  },
  {
   "cell_type": "code",
   "execution_count": 4,
   "metadata": {},
   "outputs": [
    {
     "name": "stdout",
     "output_type": "stream",
     "text": [
      "PART A\n",
      "\n"
     ]
    }
   ],
   "source": [
    "# PART A \n",
    "print('PART A\\n')"
   ]
  },
  {
   "cell_type": "code",
   "execution_count": 5,
   "metadata": {},
   "outputs": [],
   "source": [
    "y = data['resp2'] # output\n",
    "N = np.size(Y)\n",
    "X_raw = data['resp1'] # regressor\n",
    "# append the bias terms to the regressor\n",
    "X = X_raw.reshape((N, 1))\n",
    "X = np.concatenate((X, np.ones((N, 1))), axis=1)"
   ]
  },
  {
   "cell_type": "code",
   "execution_count": 6,
   "metadata": {},
   "outputs": [],
   "source": [
    "def OLS(y, X):\n",
    "    \"\"\"\n",
    "    Given the matrix containing the data labels y, and the matrix\n",
    "    containing the regressors X; computes the optimal weight vector\n",
    "    such that the meas squared error (MSE) is minimized.\n",
    "    Args:\n",
    "        y: The data labels\n",
    "        X: The regressors\n",
    "    Returns \n",
    "        w_optimal: The optimal weight vector\n",
    "    \"\"\"\n",
    "    w_optimal = np.linalg.inv(X.T.dot(X)).dot(X.T).dot(y)\n",
    "    return w_optimal"
   ]
  },
  {
   "cell_type": "code",
   "execution_count": 7,
   "metadata": {},
   "outputs": [
    {
     "name": "stdout",
     "output_type": "stream",
     "text": [
      "The optimal weight vector that minimizes the mean squared error for the linear model is:\n",
      " [ 0.29820552 67.03397361]\n"
     ]
    }
   ],
   "source": [
    "w_optimal = OLS(y, X)\n",
    "print('The optimal weight vector that minimizes the mean squared error '\n",
    "      'for the linear model is:\\n', \n",
    "      w_optimal)"
   ]
  },
  {
   "cell_type": "code",
   "execution_count": 8,
   "metadata": {},
   "outputs": [
    {
     "data": {
      "image/png": "[encoded data removed]",
      "text/plain": [
       "<Figure size 432x288 with 1 Axes>"
      ]
     },
     "metadata": {},
     "output_type": "display_data"
    }
   ],
   "source": [
    "figure_num = 1\n",
    "plt.figure(figure_num)\n",
    "figure_num += 1\n",
    "plt.scatter(X_raw, y, s=15) \n",
    "pred = X.dot(w_optimal)\n",
    "plt.plot(X_raw, pred, color='r')\n",
    "plt.title('The linear model')\n",
    "plt.ylabel('Label (resp2)')\n",
    "plt.xlabel('Regressor (resp1)')\n",
    "plt.show(block=False)"
   ]
  },
  {
   "cell_type": "code",
   "execution_count": 9,
   "metadata": {},
   "outputs": [],
   "source": [
    "def test_model(y, pred):\n",
    "    \"\"\"\n",
    "    Test a given linearized model by computing the coefficient\n",
    "    of determination (R^2). Returns the explained variance, \n",
    "    unexplained variance and R^2.\n",
    "    Args:\n",
    "        y: The data labels\n",
    "        pred: The predicted valus\n",
    "    Returns:\n",
    "        e_var: The explained variance\n",
    "        u_var: The unexplained variance\n",
    "        R2: The coefficient of determination\n",
    "    \"\"\"\n",
    "    mean_y = np.mean(y)\n",
    "    N = np.size(y)\n",
    "    total_var = np.sum((y - mean_y) ** 2) / (N - 1)\n",
    "    u_var = np.sum((y - pred) ** 2) / (N - 1)\n",
    "    e_var = total_var - u_var\n",
    "    R2 = 100 * (e_var / total_var)\n",
    "    return e_var, u_var, R2"
   ]
  },
  {
   "cell_type": "code",
   "execution_count": 10,
   "metadata": {
    "scrolled": true
   },
   "outputs": [
    {
     "name": "stdout",
     "output_type": "stream",
     "text": [
      "Explained variance of the linear model: 33.589071679116074\n",
      "Unexplained variance of the linear model: 17.464077534973946\n",
      "Coefficient of determination of the linear model: 65.79235991547004\n"
     ]
    }
   ],
   "source": [
    "e_var, u_var, R2 = test_model(Y, pred)\n",
    "print('Explained variance of the linear model:', e_var)\n",
    "print('Unexplained variance of the linear model:', u_var)\n",
    "print('Coefficient of determination of the linear model:', R2)"
   ]
  },
  {
   "cell_type": "code",
   "execution_count": 11,
   "metadata": {},
   "outputs": [
    {
     "name": "stdout",
     "output_type": "stream",
     "text": [
      "The value of R: 8.111248973830728\n",
      "The value of pearson correlation between the labels and the regressor: 0.8111248973830725\n"
     ]
    }
   ],
   "source": [
    "R = np.sqrt(R2)\n",
    "pearson = np.corrcoef(Y, X_raw)[0, 1]\n",
    "print('The value of R:', R)\n",
    "print('The value of pearson correlation between '\n",
    "      'the labels and the regressor:', pearson)"
   ]
  },
  {
   "cell_type": "code",
   "execution_count": 12,
   "metadata": {},
   "outputs": [
    {
     "name": "stdout",
     "output_type": "stream",
     "text": [
      "PART B\n",
      "\n"
     ]
    }
   ],
   "source": [
    "# PART B\n",
    "print('PART B\\n')"
   ]
  },
  {
   "cell_type": "code",
   "execution_count": 13,
   "metadata": {},
   "outputs": [],
   "source": [
    "X_order2 = (X_raw ** 2).reshape((N, 1))\n",
    "X_order2 = np.concatenate((X_order2, X), axis=1)"
   ]
  },
  {
   "cell_type": "code",
   "execution_count": 14,
   "metadata": {},
   "outputs": [
    {
     "name": "stdout",
     "output_type": "stream",
     "text": [
      "The optimal weight vector that minimizes the mean squared error for the linearized second order model is:\n",
      " [-4.42550345e-03  6.80811071e-01  6.04930517e+01]\n"
     ]
    }
   ],
   "source": [
    "w_optimal_order2 = OLS(Y, X_order2)\n",
    "print('The optimal weight vector that minimizes the mean squared error '\n",
    "      'for the linearized second order model is:\\n', \n",
    "      w_optimal_order2)"
   ]
  },
  {
   "cell_type": "code",
   "execution_count": 15,
   "metadata": {
    "scrolled": true
   },
   "outputs": [
    {
     "data": {
      "image/png": "[encoded data removed]",
      "text/plain": [
       "<Figure size 432x288 with 1 Axes>"
      ]
     },
     "metadata": {},
     "output_type": "display_data"
    }
   ],
   "source": [
    "plt.figure(figure_num)\n",
    "figure_num += 1\n",
    "plt.scatter(X_raw, Y, s=15) \n",
    "order = np.argsort(X_raw)\n",
    "X_sorted = X_raw[order]\n",
    "pred = X_order2.dot(w_optimal_order2)\n",
    "plt.plot(X_sorted, pred[order], color='r')\n",
    "plt.title('The linearized second order model')\n",
    "plt.ylabel('Label (resp2)')\n",
    "plt.xlabel('Regressor (resp1)')\n",
    "plt.show(block=False)"
   ]
  },
  {
   "cell_type": "code",
   "execution_count": 16,
   "metadata": {
    "scrolled": true
   },
   "outputs": [
    {
     "name": "stdout",
     "output_type": "stream",
     "text": [
      "Explained variance of the linearized second order model: 39.27506878523611\n",
      "Unexplained variance of the linearized second order model: 11.778080428853912\n",
      "Coefficient of determination of the linearized second order: 76.9297670953405\n"
     ]
    }
   ],
   "source": [
    "e_var, u_var, R2 = test_model(Y, pred)\n",
    "print('Explained variance of the linearized second order model:', e_var)\n",
    "print('Unexplained variance of the linearized second order model:', u_var)\n",
    "print('Coefficient of determination of the linearized second order:', R2)"
   ]
  },
  {
   "cell_type": "code",
   "execution_count": 17,
   "metadata": {},
   "outputs": [
    {
     "name": "stdout",
     "output_type": "stream",
     "text": [
      "The value of R: 8.770961583278112\n",
      "The value of spearman correlation coefficient between the labels and the regressor: 0.8488520877167255\n"
     ]
    }
   ],
   "source": [
    "R = np.sqrt(R2)\n",
    "spearman = spearmanr(Y, X_raw)\n",
    "print('The value of R:', R)\n",
    "print('The value of spearman correlation coefficient between '\n",
    "      'the labels and the regressor:', spearman.correlation)"
   ]
  },
  {
   "cell_type": "code",
   "execution_count": 18,
   "metadata": {},
   "outputs": [
    {
     "name": "stdout",
     "output_type": "stream",
     "text": [
      "PART C\n",
      "\n"
     ]
    }
   ],
   "source": [
    "# PART C\n",
    "print('PART C\\n')"
   ]
  },
  {
   "cell_type": "code",
   "execution_count": 19,
   "metadata": {},
   "outputs": [],
   "source": [
    "def parametric_nonlinear_model(x, a, n, b):\n",
    "    \"\"\"\n",
    "    An implementation of the parametric nonlinear model y = a * x^n + b \n",
    "    that will be used in the curve_fit \n",
    "    function.\n",
    "    Args:\n",
    "        x: The input value\n",
    "        a, n, b: Parameters of the function that will be optimized\n",
    "    Returns:\n",
    "        result: The resulting y value\n",
    "    \"\"\"\n",
    "    return a * (x ** n) + b"
   ]
  },
  {
   "cell_type": "code",
   "execution_count": 20,
   "metadata": {},
   "outputs": [
    {
     "name": "stdout",
     "output_type": "stream",
     "text": [
      "The optimal values in the parametric nonlinear model (starting from (1, 1, 0)):\n",
      " a = 9.575555, n = 0.313148, b = 49.812369\n"
     ]
    }
   ],
   "source": [
    "w_optimal_parametric, _ = curve_fit(parametric_nonlinear_model,\n",
    "                                     X_raw, Y, p0=[1, 1, 0])\n",
    "a_optimal = w_optimal_parametric[0]\n",
    "n_optimal = w_optimal_parametric[1]\n",
    "b_optimal = w_optimal_parametric[2]\n",
    "print('The optimal values in the parametric nonlinear model (starting from (1, 1, 0)):'\n",
    "      '\\n a = %f, n = %f, b = %f' % (a_optimal, n_optimal, b_optimal))"
   ]
  },
  {
   "cell_type": "code",
   "execution_count": 21,
   "metadata": {},
   "outputs": [
    {
     "name": "stdout",
     "output_type": "stream",
     "text": [
      "The optimal values in the parametric nonlinear model (starting from (10, 7, 100):\n",
      " a = 9.575555, n = 0.313148, b = 49.812369\n"
     ]
    }
   ],
   "source": [
    "w_optimal_parametric_, _ = curve_fit(parametric_nonlinear_model,\n",
    "                                     X_raw, Y, p0=[10, 7, 100])\n",
    "a_optimal_ = w_optimal_parametric[0]\n",
    "n_optimal_ = w_optimal_parametric[1]\n",
    "b_optimal_ = w_optimal_parametric[2]\n",
    "print('The optimal values in the parametric nonlinear model (starting from (10, 7, 100):'\n",
    "      '\\n a = %f, n = %f, b = %f' % (a_optimal_, n_optimal_, b_optimal_))"
   ]
  },
  {
   "cell_type": "code",
   "execution_count": 22,
   "metadata": {},
   "outputs": [
    {
     "data": {
      "image/png": "[encoded data removed]",
      "text/plain": [
       "<Figure size 432x288 with 1 Axes>"
      ]
     },
     "metadata": {},
     "output_type": "display_data"
    }
   ],
   "source": [
    "plt.figure(figure_num)\n",
    "figure_num += 1\n",
    "plt.scatter(X_raw, Y, s=15) \n",
    "pred = parametric_nonlinear_model(X_raw, a_optimal, n_optimal, b_optimal)\n",
    "plt.plot(X_sorted, pred[order], color='r')\n",
    "plt.title('The parametric nonlinear model')\n",
    "plt.ylabel('Label (resp2)')\n",
    "plt.xlabel('Regressor (resp1)')\n",
    "plt.show(block=False)"
   ]
  },
  {
   "cell_type": "code",
   "execution_count": 23,
   "metadata": {},
   "outputs": [
    {
     "name": "stdout",
     "output_type": "stream",
     "text": [
      "Explained variance of the parametric nonlinear model: 43.69509796187348\n",
      "Unexplained variance of the parametric nonlinear model: 7.358051252216542\n",
      "Coefficient of determination of the parametric nonlinear model: 85.5874684216624\n"
     ]
    }
   ],
   "source": [
    "e_var, u_var, R2 = test_model(Y, pred)\n",
    "print('Explained variance of the parametric nonlinear model:', e_var)\n",
    "print('Unexplained variance of the parametric nonlinear model:', u_var)\n",
    "print('Coefficient of determination of the parametric nonlinear model:', R2)"
   ]
  },
  {
   "cell_type": "code",
   "execution_count": 24,
   "metadata": {},
   "outputs": [
    {
     "name": "stdout",
     "output_type": "stream",
     "text": [
      "PART D\n"
     ]
    }
   ],
   "source": [
    "# PART D\n",
    "print('PART D')"
   ]
  },
  {
   "cell_type": "code",
   "execution_count": 25,
   "metadata": {},
   "outputs": [],
   "source": [
    "def nearest_neighbor_regression(Y, X):\n",
    "    \"\"\"\n",
    "    Performs nonlinear regression based on the nearest neighbor\n",
    "    approach, meaning that the function predicts the label of the\n",
    "    closest regressor for each regressor. \n",
    "    Args:\n",
    "        Y: The data labels\n",
    "        X: The regressors\n",
    "    Returns:\n",
    "        pred: The predicted valus\n",
    "    \"\"\"\n",
    "    pred = np.zeros(np.size(Y))\n",
    "    for index, x in enumerate(X):\n",
    "        index_of_nearest = np.abs(X - x).argmin()\n",
    "        pred[index] =  Y[index_of_nearest]\n",
    "    return pred"
   ]
  },
  {
   "cell_type": "code",
   "execution_count": 26,
   "metadata": {},
   "outputs": [],
   "source": [
    "pred = nearest_neighbor_regression(Y, X_raw)"
   ]
  },
  {
   "cell_type": "code",
   "execution_count": 27,
   "metadata": {
    "scrolled": true
   },
   "outputs": [
    {
     "data": {
      "image/png": "[encoded data removed]",
      "text/plain": [
       "<Figure size 432x288 with 1 Axes>"
      ]
     },
     "metadata": {},
     "output_type": "display_data"
    }
   ],
   "source": [
    "plt.figure(figure_num)\n",
    "figure_num += 1\n",
    "plt.scatter(X_raw, Y, s=15) \n",
    "plt.plot(X_sorted, pred[order], color='r')\n",
    "plt.title('The nearest neighbor regression based model')\n",
    "plt.ylabel('Label (resp2)')\n",
    "plt.xlabel('Regressor (resp1)')\n",
    "plt.show(block=False)"
   ]
  },
  {
   "cell_type": "code",
   "execution_count": 28,
   "metadata": {},
   "outputs": [
    {
     "name": "stdout",
     "output_type": "stream",
     "text": [
      "Explained variance of the nearest neighbor regression based model: 50.94747476217166\n",
      "Unexplained variance of the nearest neighbor regression based model: 0.10567445191836249\n",
      "Coefficient of determination nearest neighbor regression based model: 99.79301090423391\n"
     ]
    }
   ],
   "source": [
    "e_var, u_var, R2 = test_model(Y, pred)\n",
    "print('Explained variance of the nearest neighbor regression based model:', e_var)\n",
    "print('Unexplained variance of the nearest neighbor regression based model:', u_var)\n",
    "print('Coefficient of determination nearest neighbor regression based model:', R2)"
   ]
  }
 ],
 "metadata": {
  "kernelspec": {
   "display_name": "Python 3",
   "language": "python",
   "name": "python3"
  },
  "language_info": {
   "codemirror_mode": {
    "name": "ipython",
    "version": 3
   },
   "file_extension": ".py",
   "mimetype": "text/x-python",
   "name": "python",
   "nbconvert_exporter": "python",
   "pygments_lexer": "ipython3",
   "version": "3.6.5"
  }
 },
 "nbformat": 4,
 "nbformat_minor": 2
}

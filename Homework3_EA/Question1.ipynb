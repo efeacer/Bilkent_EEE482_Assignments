{
 "cells": [
  {
   "cell_type": "markdown",
   "metadata": {},
   "source": [
    "# Question 1"
   ]
  },
  {
   "cell_type": "code",
   "execution_count": 1,
   "metadata": {},
   "outputs": [
    {
     "name": "stderr",
     "output_type": "stream",
     "text": [
      "/Users/user/anaconda3/lib/python3.6/site-packages/h5py/__init__.py:36: FutureWarning: Conversion of the second argument of issubdtype from `float` to `np.floating` is deprecated. In future, it will be treated as `np.float64 == np.dtype(float).type`.\n",
      "  from ._conv import register_converters as _register_converters\n"
     ]
    }
   ],
   "source": [
    "# Necessary imports\n",
    "import numpy as np\n",
    "import matplotlib.pyplot as plt # for plots\n",
    "import h5py # to be able to use v 7.3 .mat file in the Python \n",
    "from scipy.optimize import curve_fit # Python equivalent of lsqcurvefit \n",
    "from scipy.stats import spearmanr #  Spearman correlation coefficient calculation"
   ]
  },
  {
   "cell_type": "code",
   "execution_count": 2,
   "metadata": {},
   "outputs": [
    {
     "name": "stdout",
     "output_type": "stream",
     "text": [
      "QUESTION 1\n",
      "\n"
     ]
    }
   ],
   "source": [
    "# QUESTION 1\n",
    "print('QUESTION 1\\n')"
   ]
  },
  {
   "cell_type": "code",
   "execution_count": 3,
   "metadata": {
    "scrolled": true
   },
   "outputs": [
    {
     "name": "stdout",
     "output_type": "stream",
     "text": [
      "Shape of the data associated with resp1:\n",
      " (200,) \n",
      "\n",
      "Shape of the data associated with resp2:\n",
      " (200,) \n",
      "\n"
     ]
    }
   ],
   "source": [
    "with h5py.File('hw3_data1.mat', 'r') as file:\n",
    "    data_keys = list(file.keys())\n",
    "\n",
    "data = dict()\n",
    "with h5py.File('hw3_data1.mat', 'r') as file:\n",
    "    for key in data_keys:\n",
    "        data[key] = np.array(file[key]).flatten()\n",
    "        print('Shape of the data associated with %s:\\n' % \n",
    "              key, np.shape(data[key]), '\\n')"
   ]
  },
  {
   "cell_type": "code",
   "execution_count": 4,
   "metadata": {},
   "outputs": [
    {
     "name": "stdout",
     "output_type": "stream",
     "text": [
      "PART A\n",
      "\n"
     ]
    }
   ],
   "source": [
    "# PART A \n",
    "print('PART A\\n')"
   ]
  },
  {
   "cell_type": "code",
   "execution_count": 5,
   "metadata": {},
   "outputs": [],
   "source": [
    "y = data['resp2'] # output\n",
    "N = np.size(y)\n",
    "X_raw = data['resp1'] # regressor\n",
    "# append the bias terms to the regressor\n",
    "X = X_raw.reshape((N, 1))\n",
    "X = np.concatenate((X, np.ones((N, 1))), axis=1)"
   ]
  },
  {
   "cell_type": "code",
   "execution_count": 6,
   "metadata": {},
   "outputs": [],
   "source": [
    "def OLS(y, X):\n",
    "    \"\"\"\n",
    "    Given the matrix containing the data labels y, and the matrix\n",
    "    containing the regressors X; computes the optimal weight vector\n",
    "    such that the meas squared error (MSE) is minimized.\n",
    "    Args:\n",
    "        y: The data labels\n",
    "        X: The regressors\n",
    "    Returns \n",
    "        w_optimal: The optimal weight vector\n",
    "    \"\"\"\n",
    "    w_optimal = np.linalg.inv(X.T.dot(X)).dot(X.T).dot(y)\n",
    "    return w_optimal"
   ]
  },
  {
   "cell_type": "code",
   "execution_count": 7,
   "metadata": {},
   "outputs": [
    {
     "name": "stdout",
     "output_type": "stream",
     "text": [
      "The optimal weight vector that minimizes the mean squared error for the linear model is:\n",
      " w_optimal = [a, b] = [ 0.29820552 67.03397361]\n"
     ]
    }
   ],
   "source": [
    "w_optimal = OLS(y, X)\n",
    "print('The optimal weight vector that minimizes the mean squared error '\n",
    "      'for the linear model is:\\n w_optimal = [a, b] =', \n",
    "      w_optimal)"
   ]
  },
  {
   "cell_type": "code",
   "execution_count": 8,
   "metadata": {},
   "outputs": [
    {
     "data": {
      "image/png": "[encoded data removed]",
      "text/plain": [
       "<Figure size 432x288 with 1 Axes>"
      ]
     },
     "metadata": {},
     "output_type": "display_data"
    }
   ],
   "source": [
    "figure_num = 1\n",
    "plt.figure(figure_num)\n",
    "figure_num += 1\n",
    "plt.scatter(X_raw, y, s=15) \n",
    "pred = X.dot(w_optimal)\n",
    "plt.plot(X_raw, pred, color='r')\n",
    "plt.title('The linear model')\n",
    "plt.ylabel('Label (resp2)')\n",
    "plt.xlabel('Regressor (resp1)')\n",
    "plt.legend(['y = %1.3f x + %1.3f' % (w_optimal[0], w_optimal[1])],\n",
    "          loc='lower right')\n",
    "plt.show(block=False)"
   ]
  },
  {
   "cell_type": "code",
   "execution_count": 9,
   "metadata": {},
   "outputs": [],
   "source": [
    "def test_model(y, pred):\n",
    "    \"\"\"\n",
    "    Test a given linearized model by computing the coefficient\n",
    "    of determination (R^2). Returns the explained variance, \n",
    "    unexplained variance and R^2.\n",
    "    Args:\n",
    "        y: The data labels\n",
    "        pred: The predicted valus\n",
    "    Returns:\n",
    "        e_var: The explained variance\n",
    "        u_var: The unexplained variance\n",
    "        R2: The coefficient of determination\n",
    "    \"\"\"\n",
    "    mean_y = np.mean(y)\n",
    "    N = np.size(y)\n",
    "    total_var = np.sum((y - mean_y) ** 2) / (N - 1)\n",
    "    u_var = np.sum((y - pred) ** 2) / (N - 1)\n",
    "    temp = total_var - u_var\n",
    "    R2 = 100 * (temp / total_var)\n",
    "    return R2 / 100, u_var, R2"
   ]
  },
  {
   "cell_type": "code",
   "execution_count": 10,
   "metadata": {
    "scrolled": true
   },
   "outputs": [
    {
     "name": "stdout",
     "output_type": "stream",
     "text": [
      "Explained variance of the linear model: 0.6579235991547004\n",
      "Unexplained variance of the linear model: 17.464077534973946\n",
      "Coefficient of determination of the linear model: 65.79235991547004\n"
     ]
    }
   ],
   "source": [
    "e_var, u_var, R2 = test_model(y, pred)\n",
    "print('Explained variance of the linear model:', e_var)\n",
    "print('Unexplained variance of the linear model:', u_var)\n",
    "print('Coefficient of determination of the linear model:', R2)"
   ]
  },
  {
   "cell_type": "code",
   "execution_count": 11,
   "metadata": {},
   "outputs": [
    {
     "name": "stdout",
     "output_type": "stream",
     "text": [
      "The value of R: 8.111248973830728\n",
      "The value of pearson correlation between the label and the regressor: 0.8111248973830725\n"
     ]
    }
   ],
   "source": [
    "R = np.sqrt(R2)\n",
    "pearson = np.corrcoef(y, X_raw)[0, 1]\n",
    "print('The value of R:', R)\n",
    "print('The value of pearson correlation between '\n",
    "      'the label and the regressor:', pearson)"
   ]
  },
  {
   "cell_type": "code",
   "execution_count": 12,
   "metadata": {},
   "outputs": [
    {
     "name": "stdout",
     "output_type": "stream",
     "text": [
      "PART B\n",
      "\n"
     ]
    }
   ],
   "source": [
    "# PART B\n",
    "print('PART B\\n')"
   ]
  },
  {
   "cell_type": "code",
   "execution_count": 13,
   "metadata": {},
   "outputs": [],
   "source": [
    "X_order2 = (X_raw ** 2).reshape((N, 1))\n",
    "X_order2 = np.concatenate((X_order2, X), axis=1)"
   ]
  },
  {
   "cell_type": "code",
   "execution_count": 14,
   "metadata": {},
   "outputs": [
    {
     "name": "stdout",
     "output_type": "stream",
     "text": [
      "The optimal weight vector that minimizes the mean squared error for the linearized second order model is:\n",
      "w_optimal_order2 = [a, b, c] = [-4.42550345e-03  6.80811071e-01  6.04930517e+01]\n"
     ]
    }
   ],
   "source": [
    "w_optimal_order2 = OLS(y, X_order2)\n",
    "print('The optimal weight vector that minimizes the mean squared error for '\n",
    "      'the linearized second order model is:\\nw_optimal_order2 = [a, b, c] =', \n",
    "      w_optimal_order2)"
   ]
  },
  {
   "cell_type": "code",
   "execution_count": 15,
   "metadata": {
    "scrolled": true
   },
   "outputs": [
    {
     "data": {
      "image/png": "[encoded data removed]",
      "text/plain": [
       "<Figure size 432x288 with 1 Axes>"
      ]
     },
     "metadata": {},
     "output_type": "display_data"
    }
   ],
   "source": [
    "plt.figure(figure_num)\n",
    "figure_num += 1\n",
    "plt.scatter(X_raw, y, s=15) \n",
    "order = np.argsort(X_raw)\n",
    "X_sorted = X_raw[order]\n",
    "pred = X_order2.dot(w_optimal_order2)\n",
    "plt.plot(X_sorted, pred[order], color='r')\n",
    "plt.title('The linearized second order model')\n",
    "plt.ylabel('Label (resp2)')\n",
    "plt.xlabel('Regressor (resp1)')\n",
    "plt.legend(['y = %1.3f x^2 + %1.3f x + %1.3f' % \n",
    "            (w_optimal_order2[0], w_optimal_order2[1],\n",
    "             w_optimal_order2[2])], loc='lower right')\n",
    "plt.show(block=False)"
   ]
  },
  {
   "cell_type": "code",
   "execution_count": 16,
   "metadata": {
    "scrolled": true
   },
   "outputs": [
    {
     "name": "stdout",
     "output_type": "stream",
     "text": [
      "Explained variance of the linearized second order model: 0.769297670953405\n",
      "Unexplained variance of the linearized second order model: 11.778080428853912\n",
      "Coefficient of determination of the linearized second order: 76.9297670953405\n"
     ]
    }
   ],
   "source": [
    "e_var, u_var, R2 = test_model(y, pred)\n",
    "print('Explained variance of the linearized second order model:', e_var)\n",
    "print('Unexplained variance of the linearized second order model:', u_var)\n",
    "print('Coefficient of determination of the linearized second order:', R2)"
   ]
  },
  {
   "cell_type": "code",
   "execution_count": 17,
   "metadata": {},
   "outputs": [
    {
     "name": "stdout",
     "output_type": "stream",
     "text": [
      "The value of R: 8.770961583278112\n",
      "The value of spearman correlation coefficient between the labels and the regressor: 0.8488520877167255\n"
     ]
    }
   ],
   "source": [
    "R = np.sqrt(R2)\n",
    "spearman = spearmanr(y, X_raw)\n",
    "print('The value of R:', R)\n",
    "print('The value of spearman correlation coefficient between '\n",
    "      'the labels and the regressor:', spearman.correlation)"
   ]
  },
  {
   "cell_type": "code",
   "execution_count": 18,
   "metadata": {},
   "outputs": [
    {
     "name": "stdout",
     "output_type": "stream",
     "text": [
      "PART C\n",
      "\n"
     ]
    }
   ],
   "source": [
    "# PART C\n",
    "print('PART C\\n')"
   ]
  },
  {
   "cell_type": "code",
   "execution_count": 19,
   "metadata": {},
   "outputs": [],
   "source": [
    "def parametric_nonlinear_model(x, a, n, b):\n",
    "    \"\"\"\n",
    "    An implementation of the parametric nonlinear model y = a * x^n + b \n",
    "    that will be used in the curve_fit \n",
    "    function.\n",
    "    Args:\n",
    "        x: The input value\n",
    "        a, n, b: Parameters of the function that will be optimized\n",
    "    Returns:\n",
    "        result: The resulting y value\n",
    "    \"\"\"\n",
    "    return a * (x ** n) + b"
   ]
  },
  {
   "cell_type": "code",
   "execution_count": 20,
   "metadata": {},
   "outputs": [
    {
     "name": "stdout",
     "output_type": "stream",
     "text": [
      "The optimal values in the parametric nonlinear model (starting from (1, 1, 0)):\n",
      " a = 9.575555, n = 0.313148, b = 49.812369\n"
     ]
    }
   ],
   "source": [
    "w_optimal_parametric, _ = curve_fit(parametric_nonlinear_model,\n",
    "                                     X_raw, y, p0=[1, 1, 0])\n",
    "a_optimal = w_optimal_parametric[0]\n",
    "n_optimal = w_optimal_parametric[1]\n",
    "b_optimal = w_optimal_parametric[2]\n",
    "print('The optimal values in the parametric nonlinear model (starting from (1, 1, 0)):'\n",
    "      '\\n a = %f, n = %f, b = %f' % (a_optimal, n_optimal, b_optimal))"
   ]
  },
  {
   "cell_type": "code",
   "execution_count": 21,
   "metadata": {},
   "outputs": [
    {
     "name": "stdout",
     "output_type": "stream",
     "text": [
      "The optimal values in the parametric nonlinear model (starting from (10, 7, 100):\n",
      " a = 9.575555, n = 0.313148, b = 49.812369\n"
     ]
    }
   ],
   "source": [
    "w_optimal_parametric_, _ = curve_fit(parametric_nonlinear_model,\n",
    "                                     X_raw, y, p0=[10, 7, 100])\n",
    "a_optimal_ = w_optimal_parametric[0]\n",
    "n_optimal_ = w_optimal_parametric[1]\n",
    "b_optimal_ = w_optimal_parametric[2]\n",
    "print('The optimal values in the parametric nonlinear model (starting from (10, 7, 100):'\n",
    "      '\\n a = %f, n = %f, b = %f' % (a_optimal_, n_optimal_, b_optimal_))"
   ]
  },
  {
   "cell_type": "code",
   "execution_count": 22,
   "metadata": {},
   "outputs": [
    {
     "data": {
      "image/png": "[encoded data removed]",
      "text/plain": [
       "<Figure size 432x288 with 1 Axes>"
      ]
     },
     "metadata": {},
     "output_type": "display_data"
    }
   ],
   "source": [
    "plt.figure(figure_num)\n",
    "figure_num += 1\n",
    "plt.scatter(X_raw, y, s=15) \n",
    "pred = parametric_nonlinear_model(X_raw, a_optimal, n_optimal, b_optimal)\n",
    "plt.plot(X_sorted, pred[order], color='r')\n",
    "plt.title('The parametric nonlinear model')\n",
    "plt.ylabel('Label (resp2)')\n",
    "plt.xlabel('Regressor (resp1)')\n",
    "plt.legend(['y = %1.3f x^(%1.3f) + %1.3f' % \n",
    "            (a_optimal, n_optimal, b_optimal)], loc='lower right')\n",
    "plt.show(block=False)"
   ]
  },
  {
   "cell_type": "code",
   "execution_count": 23,
   "metadata": {},
   "outputs": [
    {
     "name": "stdout",
     "output_type": "stream",
     "text": [
      "Explained variance of the parametric nonlinear model: 0.8558746842166239\n",
      "Unexplained variance of the parametric nonlinear model: 7.358051252216542\n",
      "Coefficient of determination of the parametric nonlinear model: 85.5874684216624\n"
     ]
    }
   ],
   "source": [
    "e_var, u_var, R2 = test_model(y, pred)\n",
    "print('Explained variance of the parametric nonlinear model:', e_var)\n",
    "print('Unexplained variance of the parametric nonlinear model:', u_var)\n",
    "print('Coefficient of determination of the parametric nonlinear model:', R2)"
   ]
  },
  {
   "cell_type": "code",
   "execution_count": 24,
   "metadata": {},
   "outputs": [
    {
     "name": "stdout",
     "output_type": "stream",
     "text": [
      "PART D\n"
     ]
    }
   ],
   "source": [
    "# PART D\n",
    "print('PART D')"
   ]
  },
  {
   "cell_type": "code",
   "execution_count": 25,
   "metadata": {},
   "outputs": [],
   "source": [
    "def nearest_neighbor_regression(y, X):\n",
    "    \"\"\"\n",
    "    Performs nonlinear regression based on the nearest neighbor\n",
    "    approach, meaning that the function predicts the label of the\n",
    "    closest regressor for each input. \n",
    "    Args:\n",
    "        y: The data labels\n",
    "        X: The regressors\n",
    "    Returns:\n",
    "        pred: The predicted valus\n",
    "    \"\"\"\n",
    "    pred = np.zeros(np.size(y))\n",
    "    for index, x in enumerate(X):\n",
    "        index_of_nearest = np.abs(X - x).argmin()\n",
    "        pred[index] =  y[index_of_nearest]\n",
    "    return pred"
   ]
  },
  {
   "cell_type": "code",
   "execution_count": 26,
   "metadata": {},
   "outputs": [],
   "source": [
    "pred = nearest_neighbor_regression(y, X_raw)"
   ]
  },
  {
   "cell_type": "code",
   "execution_count": 27,
   "metadata": {
    "scrolled": true
   },
   "outputs": [
    {
     "data": {
      "image/png": "[encoded data removed]",
      "text/plain": [
       "<Figure size 432x288 with 1 Axes>"
      ]
     },
     "metadata": {},
     "output_type": "display_data"
    }
   ],
   "source": [
    "plt.figure(figure_num)\n",
    "figure_num += 1\n",
    "plt.scatter(X_raw, y, s=15) \n",
    "plt.plot(X_sorted, pred[order], color='r')\n",
    "plt.title('The nearest neighbor regression based model')\n",
    "plt.ylabel('Label (resp2)')\n",
    "plt.xlabel('Regressor (resp1)')\n",
    "plt.show(block=False)"
   ]
  },
  {
   "cell_type": "code",
   "execution_count": 28,
   "metadata": {},
   "outputs": [
    {
     "name": "stdout",
     "output_type": "stream",
     "text": [
      "Explained variance of the nearest neighbor regression based model: 0.9979301090423391\n",
      "Unexplained variance of the nearest neighbor regression based model: 0.10567445191836249\n",
      "Coefficient of determination nearest neighbor regression based model: 99.79301090423391\n"
     ]
    }
   ],
   "source": [
    "e_var, u_var, R2 = test_model(y, pred)\n",
    "print('Explained variance of the nearest neighbor regression based model:', e_var)\n",
    "print('Unexplained variance of the nearest neighbor regression based model:', u_var)\n",
    "print('Coefficient of determination nearest neighbor regression based model:', R2)"
   ]
  },
  {
   "cell_type": "code",
   "execution_count": 29,
   "metadata": {},
   "outputs": [],
   "source": [
    "plt.show()"
   ]
  }
 ],
 "metadata": {
  "kernelspec": {
   "display_name": "Python 3",
   "language": "python",
   "name": "python3"
  },
  "language_info": {
   "codemirror_mode": {
    "name": "ipython",
    "version": 3
   },
   "file_extension": ".py",
   "mimetype": "text/x-python",
   "name": "python",
   "nbconvert_exporter": "python",
   "pygments_lexer": "ipython3",
   "version": "3.6.5"
  }
 },
 "nbformat": 4,
 "nbformat_minor": 2
}

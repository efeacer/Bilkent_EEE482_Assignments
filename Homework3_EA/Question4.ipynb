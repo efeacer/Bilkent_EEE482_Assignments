{
 "cells": [
  {
   "cell_type": "markdown",
   "metadata": {},
   "source": [
    "# Question 4"
   ]
  },
  {
   "cell_type": "code",
   "execution_count": 1,
   "metadata": {},
   "outputs": [
    {
     "name": "stderr",
     "output_type": "stream",
     "text": [
      "/Users/user/anaconda3/lib/python3.6/site-packages/h5py/__init__.py:36: FutureWarning: Conversion of the second argument of issubdtype from `float` to `np.floating` is deprecated. In future, it will be treated as `np.float64 == np.dtype(float).type`.\n",
      "  from ._conv import register_converters as _register_converters\n"
     ]
    }
   ],
   "source": [
    "# Necessary imports\n",
    "import numpy as np\n",
    "import matplotlib.pyplot as plt # for plots\n",
    "import h5py # to be able to use v 7.3 .mat file in the Python \n",
    "from scipy.stats import norm # for standard normal cdf"
   ]
  },
  {
   "cell_type": "code",
   "execution_count": 2,
   "metadata": {},
   "outputs": [
    {
     "name": "stdout",
     "output_type": "stream",
     "text": [
      "QUESTION 4\n",
      "\n"
     ]
    }
   ],
   "source": [
    "# QUESTION 4\n",
    "print('QUESTION 4\\n')"
   ]
  },
  {
   "cell_type": "code",
   "execution_count": 3,
   "metadata": {},
   "outputs": [
    {
     "name": "stdout",
     "output_type": "stream",
     "text": [
      "Shape of the data associated with building:\n",
      " (20,) \n",
      "\n",
      "Shape of the data associated with face:\n",
      " (20,) \n",
      "\n",
      "Shape of the data associated with pop1:\n",
      " (7,) \n",
      "\n",
      "Shape of the data associated with pop2:\n",
      " (5,) \n",
      "\n",
      "Shape of the data associated with vox1:\n",
      " (50,) \n",
      "\n",
      "Shape of the data associated with vox2:\n",
      " (50,) \n",
      "\n"
     ]
    }
   ],
   "source": [
    "with h5py.File('hw3_data3.mat', 'r') as file:\n",
    "    data_keys = list(file.keys())\n",
    "\n",
    "data = dict()\n",
    "with h5py.File('hw3_data3.mat', 'r') as file:\n",
    "    for key in data_keys:\n",
    "        data[key] = np.array(file[key]).flatten()\n",
    "        print('Shape of the data associated with %s:\\n' % \n",
    "              key, np.shape(data[key]), '\\n')"
   ]
  },
  {
   "cell_type": "code",
   "execution_count": 4,
   "metadata": {},
   "outputs": [
    {
     "name": "stdout",
     "output_type": "stream",
     "text": [
      "PART A\n",
      "\n"
     ]
    }
   ],
   "source": [
    "# PART A \n",
    "print('PART A\\n')"
   ]
  },
  {
   "cell_type": "code",
   "execution_count": 5,
   "metadata": {},
   "outputs": [],
   "source": [
    "pop1 = data['pop1']\n",
    "pop2 = data['pop2']"
   ]
  },
  {
   "cell_type": "code",
   "execution_count": 6,
   "metadata": {},
   "outputs": [],
   "source": [
    "NUM_SAMPLES = 10000"
   ]
  },
  {
   "cell_type": "code",
   "execution_count": 7,
   "metadata": {},
   "outputs": [],
   "source": [
    "def bootstrap(arr, num_samples, seed=7):\n",
    "    \"\"\"\n",
    "    Resamples an array using the bootstrap technique.\n",
    "    Args:\n",
    "        arr: The array that will be resampled\n",
    "        num_samples: Number of samples that will be generated\n",
    "        seed: The random seed to be able to reproduce the results\n",
    "    Returns:\n",
    "        arr_bootstrap: Numpy array containing the new samples\n",
    "    \"\"\"\n",
    "    arr_bootstrap = []\n",
    "    arr_size = np.size(arr)\n",
    "    indices = np.arange(arr_size)\n",
    "    np.random.seed(seed) # to be able to reproduce the results\n",
    "    for _ in range(num_samples):\n",
    "        bootstrap_indices = np.random.choice(indices, arr_size)\n",
    "        arr_resample = arr[bootstrap_indices]\n",
    "        arr_bootstrap.append(arr_resample)\n",
    "    return np.array(arr_bootstrap)"
   ]
  },
  {
   "cell_type": "code",
   "execution_count": 8,
   "metadata": {},
   "outputs": [],
   "source": [
    "def difference_in_means(arr1, arr2, num_samples, bins=60, seed=7):\n",
    "    \"\"\"\n",
    "    Generates a sampling distribution of the difference\n",
    "    in means of two individual distributions. Uses bootstrapping\n",
    "    to generate samples from the combined distribution.\n",
    "    Args:\n",
    "        arr1: The first distribution\n",
    "        arr2: The second distribution\n",
    "        num_samples: Number of samples to generate when computing\n",
    "            the sampling distribution\n",
    "        bins: Number of bins in the discretized distribution\n",
    "        seed: The random seed to be able to reproduce the results\n",
    "    Returns:\n",
    "        diff_in_means: The sampling distribution of the difference\n",
    "            in means of the given distributions\n",
    "        vals: The discretized interval of values\n",
    "        probs: The probabilities that the discretized interval of values\n",
    "            can be seen\n",
    "    \"\"\"\n",
    "    arr = np.concatenate((arr1, arr2))\n",
    "    arr_bootstrap = bootstrap(arr, num_samples, seed)\n",
    "    samples1 = arr_bootstrap[:, :np.size(arr1)]\n",
    "    samples2 = arr_bootstrap[:, np.size(arr1):]\n",
    "    means1 = np.mean(samples1, axis=1)\n",
    "    means2 = np.mean(samples2, axis=1)\n",
    "    diff_in_means = means1 - means2\n",
    "    probs, vals = np.histogram(diff_in_means, bins=bins, density=True)\n",
    "    return diff_in_means, vals, probs"
   ]
  },
  {
   "cell_type": "code",
   "execution_count": 9,
   "metadata": {},
   "outputs": [],
   "source": [
    "diff_in_means, vals, probs = difference_in_means(pop1, pop2, NUM_SAMPLES)"
   ]
  },
  {
   "cell_type": "code",
   "execution_count": 10,
   "metadata": {},
   "outputs": [
    {
     "data": {
      "image/png": "[encoded data removed]",
      "text/plain": [
       "<Figure size 432x288 with 1 Axes>"
      ]
     },
     "metadata": {},
     "output_type": "display_data"
    }
   ],
   "source": [
    "figure_num = 1\n",
    "plt.figure(figure_num)\n",
    "figure_num += 1\n",
    "plt.title('Sampling Distribution of\\nDifference in means of pop1 and pop2')\n",
    "plt.xlabel('Difference in means (x)')\n",
    "plt.ylabel('P(x)')\n",
    "plt.yticks([])\n",
    "plt.hist(diff_in_means, bins=60, density=True)\n",
    "plt.show(block=False)"
   ]
  },
  {
   "cell_type": "code",
   "execution_count": 11,
   "metadata": {},
   "outputs": [
    {
     "name": "stdout",
     "output_type": "stream",
     "text": [
      "The z-value is: 2.5328129326156494\n",
      "The two sided p-value is: 0.0113151320630549\n"
     ]
    }
   ],
   "source": [
    "x_overline = np.mean(pop1) - np.mean(pop2)\n",
    "sigma_0 = np.std(diff_in_means)\n",
    "mu_0 = np.mean(diff_in_means)\n",
    "z = (x_overline - mu_0) / sigma_0\n",
    "p = 2 * (1 - norm.cdf(z))\n",
    "print('The z-value is:', z)\n",
    "print('The two sided p-value is:', p)"
   ]
  },
  {
   "cell_type": "code",
   "execution_count": 12,
   "metadata": {},
   "outputs": [
    {
     "name": "stdout",
     "output_type": "stream",
     "text": [
      "PART B\n",
      "\n"
     ]
    }
   ],
   "source": [
    "# PART B \n",
    "print('PART B\\n')"
   ]
  },
  {
   "cell_type": "code",
   "execution_count": 13,
   "metadata": {},
   "outputs": [],
   "source": [
    "vox1 = data['vox1']\n",
    "vox2 = data['vox2']"
   ]
  },
  {
   "cell_type": "code",
   "execution_count": 14,
   "metadata": {},
   "outputs": [],
   "source": [
    "vox1_bootstrap = bootstrap(vox1, NUM_SAMPLES)\n",
    "vox2_bootstrap = bootstrap(vox2, NUM_SAMPLES)"
   ]
  },
  {
   "cell_type": "code",
   "execution_count": 15,
   "metadata": {},
   "outputs": [],
   "source": [
    "corr_bootstrap = np.zeros(NUM_SAMPLES)\n",
    "for i in range(NUM_SAMPLES):\n",
    "    corr_bootstrap[i] = np.corrcoef(vox1_bootstrap[i], \n",
    "                                    vox2_bootstrap[i])[0, 1]"
   ]
  },
  {
   "cell_type": "code",
   "execution_count": 16,
   "metadata": {},
   "outputs": [],
   "source": [
    "# Function to compute the confidence interval of data samples\n",
    "def compute_confidence_interval(data, confidence):\n",
    "    \"\"\"\n",
    "    Given the data and the confidence level, computes the confidence interval\n",
    "    of the data samples.\n",
    "    Args:\n",
    "        data: The given data\n",
    "        confidence: The confidence level, known as alpha (between 0 and 100)\n",
    "    Returns:\n",
    "        lower: The lowerbound of the confidence interval\n",
    "        upper: The upperbound of the confidence interval\n",
    "    \"\"\"\n",
    "    sorted_data = np.sort(data)\n",
    "    lower = np.percentile(sorted_data, (100 - confidence) / 2)\n",
    "    upper = np.percentile(sorted_data, confidence + (100 - confidence) / 2)\n",
    "    return lower, upper"
   ]
  },
  {
   "cell_type": "code",
   "execution_count": 17,
   "metadata": {},
   "outputs": [
    {
     "name": "stdout",
     "output_type": "stream",
     "text": [
      "Mean correlation value: 0.5575702100845678\n",
      "95% confidence interval of the correlation values: (0.32057, 0.75761)\n"
     ]
    }
   ],
   "source": [
    "corr_mean = np.mean(corr_bootstrap)\n",
    "corr_lower, corr_upper = compute_confidence_interval(corr_bootstrap, 95)\n",
    "print('Mean correlation value:', corr_mean)\n",
    "print('95%% confidence interval of the correlation values: (%1.5f, %1.5f)' %\n",
    "      (corr_lower, corr_upper))"
   ]
  },
  {
   "cell_type": "code",
   "execution_count": 18,
   "metadata": {
    "scrolled": true
   },
   "outputs": [
    {
     "name": "stdout",
     "output_type": "stream",
     "text": [
      "Percentage of zero correlation values: 0.0\n"
     ]
    }
   ],
   "source": [
    "corr_zero_percentage = 100 * np.size(np.where(np.isclose(corr_bootstrap, 0))) / NUM_SAMPLES\n",
    "print('Percentage of zero correlation values:', corr_zero_percentage)"
   ]
  },
  {
   "cell_type": "code",
   "execution_count": 19,
   "metadata": {},
   "outputs": [
    {
     "name": "stdout",
     "output_type": "stream",
     "text": [
      "PART C\n"
     ]
    }
   ],
   "source": [
    "# PART C\n",
    "print('PART C')"
   ]
  },
  {
   "cell_type": "code",
   "execution_count": 20,
   "metadata": {},
   "outputs": [],
   "source": [
    "vox1_independent = bootstrap(vox1, NUM_SAMPLES, seed=17)\n",
    "vox2_independent  = bootstrap(vox2, NUM_SAMPLES, seed=51)"
   ]
  },
  {
   "cell_type": "code",
   "execution_count": 21,
   "metadata": {},
   "outputs": [],
   "source": [
    "y = np.zeros(NUM_SAMPLES)\n",
    "for i in range(NUM_SAMPLES):\n",
    "    y[i] = np.corrcoef(vox1_independent [i], vox2_independent [i])[0, 1]"
   ]
  },
  {
   "cell_type": "code",
   "execution_count": 22,
   "metadata": {},
   "outputs": [
    {
     "data": {
      "image/png": "[encoded data removed]",
      "text/plain": [
       "<Figure size 432x288 with 1 Axes>"
      ]
     },
     "metadata": {},
     "output_type": "display_data"
    }
   ],
   "source": [
    "plt.figure(figure_num)\n",
    "figure_num += 1\n",
    "plt.title('Sampling Distribution of\\nCorrelation between vox1 and vox2')\n",
    "plt.xlabel('Correlation (y)')\n",
    "plt.ylabel('P(y)')\n",
    "plt.yticks([])\n",
    "plt.hist(y, bins=60, density=True)\n",
    "plt.show(block=False)"
   ]
  },
  {
   "cell_type": "code",
   "execution_count": 23,
   "metadata": {},
   "outputs": [
    {
     "name": "stdout",
     "output_type": "stream",
     "text": [
      "The z-value is: 3.984898491468329\n",
      "The one sided p-value is: 3.375448908071732e-05\n"
     ]
    }
   ],
   "source": [
    "y_overline = np.corrcoef(vox1, vox2)[0, 1]\n",
    "sigma_0 = np.std(y)\n",
    "mu_0 = np.mean(y)\n",
    "z = (y_overline - mu_0) / sigma_0\n",
    "p = 1 - norm.cdf(z)\n",
    "print('The z-value is:', z)\n",
    "print('The one sided p-value is:', p)"
   ]
  },
  {
   "cell_type": "code",
   "execution_count": 24,
   "metadata": {},
   "outputs": [
    {
     "name": "stdout",
     "output_type": "stream",
     "text": [
      "PART D\n"
     ]
    }
   ],
   "source": [
    "# PART D\n",
    "print('PART D')"
   ]
  },
  {
   "cell_type": "code",
   "execution_count": 25,
   "metadata": {},
   "outputs": [],
   "source": [
    "building = data['building']\n",
    "face = data['face']"
   ]
  },
  {
   "cell_type": "code",
   "execution_count": 26,
   "metadata": {},
   "outputs": [],
   "source": [
    "diff_in_means = []\n",
    "np.random.seed(7)\n",
    "for i in range(NUM_SAMPLES):\n",
    "    resample = []\n",
    "    for j in range(np.size(face)):\n",
    "        indices = np.random.choice(np.size(face))\n",
    "        options = [0, 0]\n",
    "        options.append(building[j] - face[j])\n",
    "        options.append(face[j] - building[j])\n",
    "        resample.append(np.random.choice(options))\n",
    "    diff_in_means.append(np.mean(resample))\n",
    "diff_in_means = np.array(diff_in_means)"
   ]
  },
  {
   "cell_type": "code",
   "execution_count": 27,
   "metadata": {},
   "outputs": [
    {
     "data": {
      "image/png": "[encoded data removed]",
      "text/plain": [
       "<Figure size 432x288 with 1 Axes>"
      ]
     },
     "metadata": {},
     "output_type": "display_data"
    }
   ],
   "source": [
    "plt.figure(figure_num)\n",
    "figure_num += 1\n",
    "plt.title('Sampling Distribution of\\nDifference in means of building and face\\n'\n",
    "          '(subject populations are assumed to be same)')\n",
    "plt.xlabel('Difference in means (x)')\n",
    "plt.ylabel('P(x)')\n",
    "plt.yticks([])\n",
    "plt.hist(diff_in_means, bins=60, density=True)\n",
    "plt.show(block=False)"
   ]
  },
  {
   "cell_type": "code",
   "execution_count": 28,
   "metadata": {},
   "outputs": [
    {
     "name": "stdout",
     "output_type": "stream",
     "text": [
      "The z-value is: -3.6447496655297713\n",
      "The two sided p-value is: 0.0002676521981408442\n"
     ]
    }
   ],
   "source": [
    "x_overline = np.mean(building) - np.mean(face)\n",
    "sigma_0 = np.std(diff_in_means)\n",
    "mu_0 = np.mean(diff_in_means)\n",
    "z = (x_overline - mu_0) / sigma_0\n",
    "p = 2 * (1 - norm.cdf(np.abs(z)))\n",
    "print('The z-value is:', z)\n",
    "print('The two sided p-value is:', p)"
   ]
  },
  {
   "cell_type": "code",
   "execution_count": 29,
   "metadata": {},
   "outputs": [
    {
     "name": "stdout",
     "output_type": "stream",
     "text": [
      "PART E\n"
     ]
    }
   ],
   "source": [
    "# PART E\n",
    "print('PART E')"
   ]
  },
  {
   "cell_type": "code",
   "execution_count": 30,
   "metadata": {},
   "outputs": [],
   "source": [
    "diff_in_means, vals, probs = difference_in_means(building, face, NUM_SAMPLES)"
   ]
  },
  {
   "cell_type": "code",
   "execution_count": 31,
   "metadata": {},
   "outputs": [
    {
     "data": {
      "image/png": "[encoded data removed]",
      "text/plain": [
       "<Figure size 432x288 with 1 Axes>"
      ]
     },
     "metadata": {},
     "output_type": "display_data"
    }
   ],
   "source": [
    "plt.figure(figure_num)\n",
    "figure_num += 1\n",
    "plt.title('Sampling Distribution of\\nDifference in means of building and face\\n'\n",
    "          '(subject populations are assumed to be same)')\n",
    "plt.xlabel('Difference in means (x)')\n",
    "plt.ylabel('P(x)')\n",
    "plt.yticks([])\n",
    "plt.hist(diff_in_means, bins=60, density=True)\n",
    "plt.show(block=False)"
   ]
  },
  {
   "cell_type": "code",
   "execution_count": 32,
   "metadata": {},
   "outputs": [
    {
     "name": "stdout",
     "output_type": "stream",
     "text": [
      "The z-value is: -2.686851787380054\n",
      "The two sided p-value is: 0.00721289501971123\n"
     ]
    }
   ],
   "source": [
    "x_overline = np.mean(building) - np.mean(face)\n",
    "sigma_0 = np.std(diff_in_means)\n",
    "mu_0 = np.mean(diff_in_means)\n",
    "z = (x_overline - mu_0) / sigma_0\n",
    "p = 2 * (1 - norm.cdf(np.abs(z)))\n",
    "print('The z-value is:', z)\n",
    "print('The two sided p-value is:', p)"
   ]
  },
  {
   "cell_type": "code",
   "execution_count": 33,
   "metadata": {},
   "outputs": [],
   "source": [
    "plt.show()"
   ]
  }
 ],
 "metadata": {
  "kernelspec": {
   "display_name": "Python 3",
   "language": "python",
   "name": "python3"
  },
  "language_info": {
   "codemirror_mode": {
    "name": "ipython",
    "version": 3
   },
   "file_extension": ".py",
   "mimetype": "text/x-python",
   "name": "python",
   "nbconvert_exporter": "python",
   "pygments_lexer": "ipython3",
   "version": "3.6.5"
  }
 },
 "nbformat": 4,
 "nbformat_minor": 2
}

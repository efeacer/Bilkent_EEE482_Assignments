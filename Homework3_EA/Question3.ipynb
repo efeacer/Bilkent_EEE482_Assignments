{
 "cells": [
  {
   "cell_type": "markdown",
   "metadata": {},
   "source": [
    "# Question 3"
   ]
  },
  {
   "cell_type": "code",
   "execution_count": 1,
   "metadata": {},
   "outputs": [
    {
     "name": "stderr",
     "output_type": "stream",
     "text": [
      "/Users/user/anaconda3/lib/python3.6/site-packages/h5py/__init__.py:36: FutureWarning: Conversion of the second argument of issubdtype from `float` to `np.floating` is deprecated. In future, it will be treated as `np.float64 == np.dtype(float).type`.\n",
      "  from ._conv import register_converters as _register_converters\n"
     ]
    }
   ],
   "source": [
    "# Necessary imports\n",
    "import numpy as np\n",
    "import matplotlib.pyplot as plt # for plots\n",
    "import h5py # to be able to use v 7.3 .mat file in the Python \n",
    "from collections import defaultdict # to store cross validation results efficiently"
   ]
  },
  {
   "cell_type": "code",
   "execution_count": 2,
   "metadata": {},
   "outputs": [
    {
     "name": "stdout",
     "output_type": "stream",
     "text": [
      "QUESTION 3\n",
      "\n"
     ]
    }
   ],
   "source": [
    "# QUESTION 3\n",
    "print('QUESTION 3\\n')"
   ]
  },
  {
   "cell_type": "code",
   "execution_count": 3,
   "metadata": {},
   "outputs": [
    {
     "name": "stdout",
     "output_type": "stream",
     "text": [
      "Data associated with Xn:\n",
      " [[ 1.52701832  0.16157787  0.28709502 ...  0.01068474 -0.7308025\n",
      "  -1.48034961]\n",
      " [-0.76904198 -0.1476574  -0.12500706 ...  0.58689498  0.62416562\n",
      "   0.58964526]\n",
      " [ 0.60902472  0.37165935 -0.01411154 ... -0.05499333 -0.2238149\n",
      "  -0.9915588 ]\n",
      " ...\n",
      " [ 0.15820847 -0.47116266 -0.38654521 ...  0.80714865  0.70844618\n",
      "   1.26514569]\n",
      " [-0.15492524  0.0927185   0.12305589 ... -0.7178365   0.19367856\n",
      "   1.6518268 ]\n",
      " [-1.31876714 -0.18138183  0.47656    ...  0.54356172 -0.17487675\n",
      "   0.15155921]] \n",
      "\n",
      "Data associated with Yn:\n",
      " [[ 8.09733590e-01  4.03151023e-01  3.10795031e-01  1.05111649e+00\n",
      "   8.00216651e-01  6.46037345e-01  7.14216610e-02  1.83919801e-01\n",
      "  -3.14820929e-01 -1.82482320e-01  1.45431628e-01  6.32468701e-01\n",
      "   6.71419873e-01  7.65028353e-02  9.18293694e-01  7.26047842e-01\n",
      "   1.09795020e+00  2.11850925e-01 -6.74332745e-02 -3.64295217e-01\n",
      "  -4.73715837e-01 -9.83666953e-01 -1.24066982e+00 -7.76936011e-01\n",
      "  -8.42436897e-01 -2.48619415e-01 -9.57918863e-02  1.11285712e+00\n",
      "   8.26236060e-01  3.57345739e-01 -1.73706671e-01 -4.21465370e-01\n",
      "  -4.06506793e-01 -7.78114977e-01 -5.85258147e-01 -5.32400418e-01\n",
      "  -1.29571958e-01  2.60758909e-01 -5.42830366e-02  1.70358194e-01\n",
      "  -2.97386966e-01  3.35486725e-01  3.10042882e-01  9.40755261e-01\n",
      "   2.15003090e-01  2.46003907e-01 -3.67976635e-01  3.61425061e-01\n",
      "  -7.66718558e-02 -3.00426094e-01 -7.92887497e-01 -3.40734715e-01\n",
      "   4.62507211e-01  6.84816095e-02  1.72837393e-01 -3.28688705e-01\n",
      "   3.23944410e-01  1.83472221e-01  3.00201288e-02  6.64897075e-01\n",
      "   6.98904347e-01  6.74794219e-01  3.30648234e-02 -4.99376551e-01\n",
      "  -5.18390778e-01 -7.33766292e-01 -5.95136922e-01 -2.26345846e-01\n",
      "  -1.22981484e-01 -1.16848656e-01  1.53647518e-01 -4.58977215e-01\n",
      "   1.86611085e-01  1.85975846e-01  7.89126372e-01  6.37982634e-01\n",
      "   5.01724271e-01  2.60889683e-01  3.68319446e-01  1.74575142e-02\n",
      "   8.44816563e-01  6.81987757e-01  7.95356677e-01  2.12597281e-01\n",
      "  -1.53026038e-01 -3.25301856e-01 -8.79462860e-01 -4.32536892e-01\n",
      "   2.07095194e-01  7.47211522e-01  4.84062522e-01 -8.22831765e-02\n",
      "   3.67149314e-02  6.13321941e-01  7.36062468e-01  7.91462700e-01\n",
      "   2.65253174e-01  3.28328168e-01  3.20797839e-01  3.47351244e-01\n",
      "   5.75924616e-01  8.26032031e-01  4.77923861e-01  4.08157368e-01\n",
      "   2.62709513e-01  5.94240000e-01 -2.81800637e-04 -7.90398157e-02\n",
      "   1.43102131e-01  5.84475716e-01  1.72211789e-01 -1.80414059e-02\n",
      "  -2.87053467e-01 -8.32464579e-01 -9.64551244e-01 -1.33153327e+00\n",
      "  -4.95246605e-01 -3.12281630e-01  3.00706322e-01  1.10828998e-01\n",
      "   1.35743644e-01  9.63070637e-02 -6.85395908e-02  4.14069584e-01\n",
      "   4.09363208e-01  4.55010569e-01 -6.78269067e-01 -9.48081635e-01\n",
      "  -9.60415788e-01 -8.04259492e-01 -5.00996042e-01 -2.89285071e-01\n",
      "  -5.12594571e-02 -2.36749442e-01  3.28503333e-01  4.60409485e-01\n",
      "   7.23405636e-01 -1.10732434e-01  6.28750699e-01  7.01297949e-01\n",
      "   9.69591636e-01  6.43857579e-01  5.14802444e-01  8.28351859e-01\n",
      "  -1.40842827e-01 -6.35135915e-01 -8.47194238e-01 -2.70282053e-01\n",
      "  -2.92633071e-01 -6.27715223e-01 -5.71433613e-01 -3.26138958e-01\n",
      "  -3.56347629e-01 -6.52835408e-01 -1.33999661e-01  3.15338782e-02\n",
      "   1.58406141e-01  3.94467505e-02  3.75114077e-01  8.98286135e-01\n",
      "   3.19342741e-01  7.23587340e-02 -2.58632927e-01 -7.34803050e-02\n",
      "  -9.99005698e-02  2.90332476e-02  7.20691263e-01  6.74003110e-01\n",
      "   1.44575607e-01 -6.18530147e-01 -6.30110452e-01 -2.07981910e-01\n",
      "   2.81672904e-01  1.05716554e+00  7.67445364e-01  1.02597050e+00\n",
      "   2.09562804e-02 -1.07038815e-01 -9.71655133e-01 -7.51262739e-01\n",
      "  -7.92366933e-01 -5.40413482e-02 -2.99793486e-01  3.82388893e-01\n",
      "  -6.16859863e-01 -3.55931277e-01 -4.21029956e-01  2.91553419e-01\n",
      "   6.34043188e-01  9.24768557e-01  1.04494295e+00  6.20231487e-01\n",
      "   1.45180027e-02  4.93803338e-01  2.72676743e-01  2.72300418e-01\n",
      "  -2.87905517e-01  2.35193010e-01  4.30475946e-01  1.31643656e-01\n",
      "   4.09637794e-02 -2.60020328e-01 -2.53684836e-01 -8.96277869e-01\n",
      "  -1.31890986e+00 -1.07595493e+00 -4.99415694e-01 -2.69521937e-01\n",
      "  -4.60036145e-01 -6.60389247e-02  5.80059816e-01  1.39729774e+00\n",
      "   6.59610833e-01  3.57158929e-02 -3.16317114e-01  1.82266430e-01\n",
      "   8.13133354e-01 -1.08841757e-03 -1.52349038e-01 -5.43177598e-01\n",
      "  -6.55947677e-01 -8.63655282e-01 -6.65482748e-01  4.30422763e-01\n",
      "   1.35686796e+00  1.86532892e+00  1.23274678e+00  9.25824996e-01\n",
      "   1.08228658e+00  1.77424391e+00  1.40398949e+00  8.87436683e-01\n",
      "  -1.46652563e-01 -8.27111205e-01 -8.45960291e-01 -8.47581941e-01\n",
      "   2.46241823e-01  1.99984213e-01  8.01881675e-01  9.34864024e-01\n",
      "   8.74462382e-01  9.55062547e-01  1.80332958e-01  4.88692367e-02\n",
      "   1.68977761e-01  2.75135058e-01  9.32865905e-02 -3.63828117e-01\n",
      "  -8.28008741e-01 -9.05840045e-01 -1.20371970e+00 -3.42990054e-01\n",
      "  -2.15141412e-01  3.44741855e-01  3.85866584e-01  3.67773433e-01\n",
      "   3.56810706e-01 -3.80045222e-01 -2.77590682e-01 -7.93948249e-01\n",
      "  -4.01574899e-01 -4.81639350e-01 -8.28517810e-01 -8.19417671e-01\n",
      "  -6.60316733e-02  3.69694909e-01 -1.64799724e-01 -1.33553101e+00\n",
      "  -6.97363179e-01 -2.96005045e-01  5.20545454e-01  6.95955102e-01\n",
      "   7.21828684e-01  4.79076343e-01 -4.05438914e-01 -1.64631528e-01\n",
      "  -4.96082407e-01 -7.70797937e-01 -7.46184462e-01 -2.16904331e-01\n",
      "   4.58202279e-01  2.62340149e-01 -1.07396525e-01 -6.11403174e-01\n",
      "  -5.16073957e-01 -7.64878579e-01 -6.43341891e-01 -3.05930327e-01\n",
      "   1.56898932e-01  6.76899309e-01  4.21417709e-01  9.42749552e-01\n",
      "   9.06020618e-01  4.73721084e-01 -4.96932910e-01 -5.37870003e-01\n",
      "  -1.52105301e-01  1.81912161e-01  1.83716777e-01  5.08619295e-02\n",
      "   2.17288261e-01  3.77653818e-01  4.45549366e-01  4.15342181e-01\n",
      "   1.83172687e-02 -3.22246738e-01 -1.53490970e-01 -4.18590216e-02\n",
      "   6.10907099e-01  5.43942358e-01 -1.84764958e-02  3.22473264e-01\n",
      "  -2.06026653e-01  8.80615339e-01  5.71190780e-01  2.35901114e-01\n",
      "  -2.81771118e-01 -5.78000312e-01 -2.73649587e-01  2.20104186e-01\n",
      "   2.42878333e-01  1.04179877e+00  6.00141769e-01  5.31888050e-01\n",
      "  -3.64379466e-01 -1.17430024e-01 -4.37705790e-01 -1.95615793e-01\n",
      "  -5.16571786e-01  1.00450243e-01  7.46514436e-01  7.94574508e-01\n",
      "   5.07942809e-01 -3.18808093e-01 -6.19828775e-01 -2.91522474e-01\n",
      "   7.94896357e-01  9.44270177e-01  7.10983081e-01  9.18492560e-02\n",
      "  -4.97779585e-04 -4.90499880e-01 -5.66389355e-01 -4.01762641e-01\n",
      "  -6.78902881e-02 -2.30981907e-01 -7.91134894e-01 -1.44400936e+00\n",
      "  -1.09738882e+00 -4.08026034e-01  1.40037701e-01  3.95147361e-02\n",
      "   1.01270488e-01  3.44203121e-01  9.77374691e-02 -2.14187199e-01\n",
      "  -6.93097496e-01 -7.54545106e-01 -4.30544246e-01  3.36862540e-01\n",
      "   8.25414651e-01  7.89740204e-01 -4.53467435e-01 -1.06572447e+00\n",
      "  -9.51490029e-01 -2.32427343e-01  2.44467274e-03 -3.09752702e-01\n",
      "  -6.74997615e-02 -5.36947999e-01 -7.95340506e-01 -1.26633494e+00\n",
      "  -7.26780840e-01 -7.21389533e-01 -7.51643551e-01 -5.24727232e-01\n",
      "  -4.65387033e-01  4.87411951e-01  1.91166323e-01  7.90568372e-01\n",
      "  -1.27827546e-01 -5.38491815e-01 -1.01009377e+00 -6.36261752e-01\n",
      "   1.66427333e-01  5.43156452e-01  5.84096484e-01  2.30036147e-01\n",
      "  -5.90045822e-01 -5.90806837e-01 -4.17041432e-01  1.03253512e-01\n",
      "  -6.64327942e-01 -6.51380546e-01 -5.07613052e-01 -7.65381199e-01\n",
      "  -1.03421443e+00 -8.46390863e-01  4.12391971e-02  3.86244929e-01\n",
      "   2.25084343e-01  4.47247934e-01 -4.56346509e-01 -5.30899098e-01\n",
      "  -6.83076830e-01 -3.37902757e-01 -6.34288986e-01 -1.41134060e+00\n",
      "  -1.01534131e+00 -9.98339043e-01  4.69550070e-02 -2.53442076e-01\n",
      "   8.89501274e-02  8.31078348e-03  3.04168513e-01 -7.33683555e-02\n",
      "  -9.12603167e-02 -7.69945464e-01 -3.44355936e-01 -6.12986761e-01\n",
      "   6.01304887e-01  8.25392385e-01  1.17909811e+00  9.81201409e-01\n",
      "   2.99180708e-01  4.47606571e-02 -5.09802499e-01  1.80045293e-01\n",
      "  -7.85449545e-02  4.09465419e-01 -2.61559492e-01 -3.87120764e-01\n",
      "  -1.19928027e+00 -1.12351943e+00 -1.02741116e+00 -7.64886304e-01\n",
      "  -7.63708412e-01 -8.10770545e-01 -7.12918483e-01 -2.41499697e-01\n",
      "  -6.30704249e-03 -2.08347292e-01 -5.36584316e-01 -9.56971928e-01\n",
      "  -9.57406716e-01 -5.89958772e-01 -1.09295677e+00 -7.82678824e-01\n",
      "  -9.24559763e-01 -4.42387094e-01 -1.53784878e-01 -1.38981614e-01\n",
      "   1.15064172e-01  2.61132399e-01  3.10585350e-01  3.21820881e-01\n",
      "   1.65391650e-02 -3.34278630e-01  1.80405733e-01 -1.97877132e-01\n",
      "   8.02958148e-02 -1.83900947e-02  3.27207196e-01 -4.81267573e-01\n",
      "  -1.19481879e+00 -1.29141209e+00 -4.31469809e-01  1.49720917e-01\n",
      "   4.01077372e-01 -2.12786107e-01 -6.29841955e-01 -1.05897658e+00\n",
      "  -9.05417475e-01 -3.27604286e-01 -5.54467690e-01 -6.72250252e-01\n",
      "  -3.83033567e-01  5.14675886e-01  7.74934862e-01  3.25128358e-01\n",
      "   1.00056397e-01  7.25422040e-02 -7.87664326e-01 -1.01995133e+00\n",
      "  -4.60313040e-01 -1.44552431e-01 -7.44825986e-01 -1.49487513e+00\n",
      "  -6.63477312e-01 -4.52011197e-01 -8.29505818e-02 -2.55030054e-01\n",
      "   2.44508100e-01  2.66226893e-01  2.41063657e-01  3.58656677e-01\n",
      "   7.68439338e-02  4.87935691e-01  5.03055800e-01  7.57660977e-02\n",
      "  -1.47168230e-01 -1.43057963e-01  5.76117714e-01  4.34162489e-01\n",
      "  -1.11703421e-01 -2.91211725e-01 -3.26662668e-01 -8.29546771e-04\n",
      "  -8.79975181e-01 -1.08080060e+00 -1.11543197e+00 -1.48492804e-01\n",
      "  -2.45643901e-01 -3.68067329e-01 -1.61632855e-01  4.33742095e-01\n",
      "   5.57717433e-01 -4.54196007e-01 -1.10435988e+00 -1.08398873e+00\n",
      "  -1.86497597e-01  4.65985696e-01  7.52522542e-01  3.36130823e-01\n",
      "   3.75959061e-01 -1.67270507e-01  2.31415822e-01 -2.18413232e-01\n",
      "   6.81129482e-01  9.66214513e-01  1.63710769e+00  5.77887656e-01\n",
      "  -7.41888857e-02 -9.93375912e-01 -7.80246458e-01 -6.54251185e-01\n",
      "  -5.71876642e-01 -5.62065718e-01 -6.27692906e-01 -2.82756038e-01\n",
      "  -7.39588354e-02  5.57954993e-01  4.08921538e-01  6.12993472e-01\n",
      "   3.13189653e-01  6.40562132e-01  4.93485183e-01  1.83055848e-01\n",
      "  -5.37237762e-02 -2.92880818e-01 -2.34320132e-01 -8.47990364e-01\n",
      "  -1.57305204e+00 -8.07676925e-01 -8.50624014e-01  1.37142460e-01\n",
      "  -5.47448108e-01  3.64911329e-01 -6.02058667e-02  1.06634477e-01\n",
      "   5.50262390e-01  3.33813485e-01  4.58648656e-01 -9.70140502e-01\n",
      "  -5.07486836e-01 -1.05830894e+00  1.75704949e-01 -2.64184146e-01\n",
      "  -4.36394537e-01 -1.12883051e+00 -9.25844716e-01 -9.85476855e-01\n",
      "  -8.55413107e-01 -1.61506054e-01  5.51795258e-01  1.30298630e+00\n",
      "   9.69683916e-01  8.75911441e-01 -5.55082930e-01 -8.03614767e-01\n",
      "  -8.16269949e-01  9.01304578e-02 -9.54477524e-02  7.73849181e-02\n",
      "   1.28500693e-01  3.34930443e-01  2.54189378e-01 -6.89447585e-01\n",
      "  -3.08566219e-01  5.53944649e-02  1.10167435e+00  9.80664007e-01\n",
      "   5.13939293e-01 -1.78437399e-01 -1.22871627e-01 -1.78893233e-01\n",
      "   2.44631117e-01 -5.01065974e-01 -2.56034552e-01 -5.79615396e-01\n",
      "  -9.99919133e-02 -1.68902811e-01  1.13782211e+00  1.17205884e+00\n",
      "   9.62118117e-01 -1.47213852e-01  4.03680694e-01  4.94098234e-01\n",
      "   7.44764033e-01  3.67307230e-01  3.38737097e-01  5.99159729e-02\n",
      "  -2.97660868e-01 -1.48583588e-01 -1.34593607e-01  1.84382973e-01\n",
      "   4.90427360e-01  5.68477751e-01  6.62594782e-01  5.13479839e-01\n",
      "   7.27638851e-01  5.72080224e-01  2.85169057e-01 -1.65559188e-01\n",
      "  -4.45348670e-01 -1.65695527e-01  1.61762623e-01  2.54025612e-01\n",
      "  -2.20042952e-01 -6.82326365e-01 -4.06511084e-01  3.19703425e-01\n",
      "   8.94567321e-02  1.95524643e-01 -2.48645869e-01  5.88326652e-01\n",
      "   2.90429710e-01  1.88157121e-01 -4.12916690e-01 -2.20092590e-01\n",
      "  -9.39341057e-01 -3.73679580e-01 -3.77328064e-01  3.73421000e-01\n",
      "   1.47533830e-01  1.24228972e-01  2.79958416e-01  3.99587826e-01\n",
      "   3.67226651e-01  1.82068871e-01  4.03884419e-01  1.71934818e-01\n",
      "   2.18864796e-03 -7.06979610e-01 -4.36093986e-01  3.01020767e-01\n",
      "   4.02520120e-01  7.32648843e-01  3.44446460e-01  1.12343318e+00\n",
      "   1.05575647e+00  1.20335174e+00  8.57817113e-01  2.40151297e-02\n",
      "  -5.31768989e-01 -3.96446906e-01 -1.15937256e-01  4.89356981e-01\n",
      "  -2.52698147e-01  3.24709952e-01 -1.60187858e-01  7.53375049e-01\n",
      "   6.52859571e-01  9.69927126e-01  1.39469717e-01  7.91979402e-02\n",
      "   3.11750682e-01  2.09788839e-01  3.64380559e-01 -1.41607817e-01\n",
      "   4.37604058e-01 -3.11698202e-01  1.16252147e-01  2.44139181e-01\n",
      "   7.04038261e-01 -1.26896008e-01 -1.18629093e+00 -8.78463412e-01\n",
      "  -2.95470092e-01  3.54972675e-01 -1.00581638e-01 -4.95010160e-03\n",
      "   6.07473147e-01  1.34571839e-01  5.42144072e-02 -1.29253639e-01\n",
      "   8.24689294e-01  9.52921891e-01  4.73029127e-01  5.28492036e-02\n",
      "   6.16676472e-01  1.37651822e+00  7.85953737e-01 -1.17044582e-02\n",
      "  -4.10815707e-01  3.55631561e-01  6.14173254e-01  7.32218473e-01\n",
      "   1.36680202e-01  2.42722139e-01 -8.08884793e-02  8.74825456e-01\n",
      "   3.87109480e-01 -1.60046199e-01 -9.93962595e-01 -1.34480150e+00\n",
      "  -3.51894257e-01 -3.32865962e-01 -1.33581423e-01 -1.52236797e-01\n",
      "  -1.87146162e-01  8.68487350e-01  6.81262588e-01  1.44724407e+00\n",
      "   8.66470289e-01  7.46530047e-01  2.77653355e-01 -1.53534794e-01\n",
      "  -3.57229848e-01  1.49653935e-01  6.78670959e-01  2.44279401e-01\n",
      "   9.30784749e-02 -2.41644625e-01  7.51957690e-01  1.06446627e+00\n",
      "   1.41121810e+00  1.00539385e+00  8.49697845e-01  5.94819547e-01\n",
      "   3.42133427e-01 -7.12456649e-02 -1.65522746e-01  2.21702863e-01\n",
      "   4.56818722e-01  3.89449476e-01  1.19052085e-02 -5.80366802e-01\n",
      "  -1.42193494e-01  3.30663198e-01  7.00790451e-01 -1.01575463e-01\n",
      "  -1.21703748e-02 -4.55464869e-01 -1.86637778e-01 -9.75186178e-01\n",
      "  -3.61854050e-01 -1.91810335e-01  3.99154616e-01  3.35351047e-02\n",
      "   6.93578336e-02  1.48861277e-01  1.47560424e-01 -1.56841231e-01\n",
      "  -1.43244481e-01 -2.16636192e-01  2.64412040e-01 -1.50527574e-01\n",
      "  -2.45083574e-01 -1.75317306e-01  4.83554838e-01  5.20256590e-01\n",
      "   8.84476881e-02 -8.61032437e-01 -4.80230983e-01  1.62341613e-01\n",
      "   9.80341201e-01  9.80968443e-01  1.00879688e-01 -1.71176021e-01\n",
      "  -7.96441676e-01 -1.37800437e-01 -9.17035689e-02  2.56391355e-01\n",
      "   4.66439045e-01  5.27906992e-01  5.82454706e-01  3.33981377e-01\n",
      "   4.98903416e-01  8.61717655e-01  5.31369062e-01  3.93806042e-02\n",
      "   1.08226380e-02  3.02996886e-01 -4.43223743e-01 -1.25727546e+00\n",
      "  -1.84459976e+00 -8.34429962e-01 -2.57333259e-01  2.06383344e-01\n",
      "  -2.46589947e-01  2.71930705e-01  7.68577268e-01  9.26133722e-01\n",
      "   5.72584025e-01  3.37408023e-02  1.08777913e+00  8.39158617e-01\n",
      "   6.97304818e-01 -2.94438933e-01  4.87702197e-01  1.22728695e+00\n",
      "   1.03747073e+00  3.93088245e-01  1.94726978e-01  6.66334604e-01\n",
      "   3.30148097e-01 -8.46498885e-01 -1.09022025e+00 -7.67044258e-01\n",
      "   4.04016143e-01  5.94001009e-01  6.56358888e-01  1.50548972e-01\n",
      "   1.66961614e-01 -4.71345506e-01 -7.42615466e-01 -2.93227800e-01\n",
      "   3.94201379e-01  7.68762235e-01  4.33722240e-01  7.36043341e-02\n",
      "  -4.49707654e-01 -5.72109024e-01 -4.73416963e-01 -2.08187619e-01\n",
      "  -3.42862660e-01 -1.22607432e-01  3.44248410e-01  2.33744084e-01\n",
      "   3.31810005e-01 -8.39609264e-02 -8.07372269e-01 -1.47042265e+00\n",
      "  -1.36405224e+00 -5.12260109e-01  7.34583393e-01  4.43069065e-01\n",
      "   6.30217852e-01 -4.31717828e-01 -7.29607455e-01 -1.33381186e+00\n",
      "  -1.02411443e+00 -2.41498241e-01 -2.58626914e-01 -1.75542858e-01\n",
      "  -1.11580122e-01  4.19802458e-01  6.01326250e-01  1.64074297e-01\n",
      "  -3.48128307e-01 -3.31936050e-01 -7.34900707e-02  6.57242620e-01\n",
      "   1.13231548e+00  9.76534723e-01  3.18468799e-01 -8.00462802e-01\n",
      "  -6.88223560e-01 -7.27063296e-01 -3.74397186e-01 -9.11199936e-03\n",
      "  -2.21298466e-01 -4.23703189e-01 -6.93215425e-01 -4.07128594e-01\n",
      "  -3.51621479e-01  5.06392920e-02  7.45036720e-01  5.69681302e-01\n",
      "   2.28375885e-01  8.28620122e-02  4.35205994e-01  4.72732424e-01\n",
      "   7.23343202e-02  6.24927344e-01  5.66844558e-01  5.75268845e-01\n",
      "   2.18265578e-01  1.62559883e-01  5.56298439e-01  5.88290090e-01\n",
      "   1.16054008e+00  5.24815497e-01  1.03004251e+00  9.87665629e-01\n",
      "   1.06102825e+00  1.87877446e-02 -8.01463245e-01 -5.49439253e-01\n",
      "  -3.75382698e-01  3.30736169e-01  3.52605819e-01  2.17408700e-01\n",
      "   2.70513003e-01 -5.67664243e-01 -7.13801947e-01 -1.33094017e+00\n",
      "  -1.04842945e+00 -2.67525957e-01 -1.16157442e-02  3.22145227e-01\n",
      "  -1.59835456e-01 -3.22512511e-01 -1.82249017e-01 -3.31541859e-02\n",
      "  -5.05615900e-01 -8.04480347e-01 -1.22168177e+00 -1.12959211e+00\n",
      "  -1.05509452e+00 -5.43868442e-01 -5.81697649e-01  1.19067530e-01\n",
      "   1.42943825e-01  1.20351636e+00  9.43403181e-01  7.56721356e-01\n",
      "   1.18244055e-01 -1.84002197e-01 -2.11592332e-01 -6.60428181e-02\n",
      "   6.23043562e-02 -2.96498754e-02  2.57217694e-01  5.25019075e-01\n",
      "   5.01363411e-01 -5.07927054e-01 -8.73444021e-01 -7.33832338e-01\n",
      "  -3.82996643e-01 -2.17827872e-01 -6.06116718e-01 -7.82357551e-01\n",
      "  -1.31290316e+00 -7.91600110e-01 -8.77325177e-01 -1.51988359e-01\n",
      "  -4.49276225e-02 -1.27606560e-01 -2.47090074e-01  7.72394356e-02\n",
      "   1.30486115e+00  8.35258035e-01  5.82177550e-01 -1.03491245e-01\n",
      "   3.54103625e-01  5.37802294e-01  1.07570804e+00  8.52815907e-01\n",
      "  -4.79818104e-02 -9.00663193e-02 -6.05242778e-01 -5.47047064e-01\n",
      "  -8.27133453e-01 -2.14646622e-01 -8.82286943e-02 -1.67721666e-01\n",
      "   1.42786407e-02  3.97124197e-01  1.04725980e-01 -5.56477040e-02\n",
      "   7.55694592e-02  2.57816498e-01  2.85895783e-01 -2.09921885e-01\n",
      "  -2.48095580e-01 -1.03805647e+00 -5.46562881e-01 -2.23273353e-01\n",
      "   4.67854130e-01  2.33714466e-01 -6.87323680e-02 -2.88443545e-01\n",
      "  -9.85700788e-01 -7.51545191e-01  9.01296123e-02  1.31476900e+00\n",
      "   1.54373882e+00  1.12145709e+00  4.14337834e-01  3.03547507e-02\n",
      "  -1.80472265e-01  4.51009767e-01  1.72612044e-01 -5.78647737e-02\n",
      "  -3.62257235e-01 -9.68172839e-02  3.16413178e-01  3.43221444e-01]] \n",
      "\n"
     ]
    }
   ],
   "source": [
    "with h5py.File('hw3_data2.mat', 'r') as file:\n",
    "    data_keys = list(file.keys())\n",
    "\n",
    "data = dict()\n",
    "with h5py.File('hw3_data2.mat', 'r') as file:\n",
    "        for key in data_keys:\n",
    "            data[key] = np.array(file[key])\n",
    "            print('Data associated with %s:\\n' % key, data[key], '\\n')"
   ]
  },
  {
   "cell_type": "code",
   "execution_count": 4,
   "metadata": {},
   "outputs": [
    {
     "name": "stdout",
     "output_type": "stream",
     "text": [
      "Shape of Yn: (1000,)\n",
      "Shape of Xn: (1000, 100)\n"
     ]
    }
   ],
   "source": [
    "Yn = data['Yn'].flatten()\n",
    "Xn = data['Xn'].T\n",
    "print('Shape of Yn:', np.shape(Yn))\n",
    "print('Shape of Xn:', np.shape(Xn))"
   ]
  },
  {
   "cell_type": "code",
   "execution_count": 5,
   "metadata": {},
   "outputs": [
    {
     "name": "stdout",
     "output_type": "stream",
     "text": [
      "PART A\n"
     ]
    }
   ],
   "source": [
    "# PART A\n",
    "print('PART A')"
   ]
  },
  {
   "cell_type": "code",
   "execution_count": 6,
   "metadata": {},
   "outputs": [],
   "source": [
    "def ridge(y, X, lambda_):\n",
    "    \"\"\"\n",
    "    Given data labels and regressors, learns an optimal weight\n",
    "    vector according to the ridge regression formulation.\n",
    "    Args:\n",
    "        y: The data labels\n",
    "        X: The regressors\n",
    "        lambda_: The regularization parameter\n",
    "    Returns \n",
    "        w_optimal: The optimal weight vector\n",
    "    \"\"\"\n",
    "    K = np.shape(X)[1]\n",
    "    temp = np.linalg.inv(X.T.dot(X) + lambda_ * np.eye(K))\n",
    "    w_optimal = temp.dot(X.T).dot(y)\n",
    "    return w_optimal"
   ]
  },
  {
   "cell_type": "code",
   "execution_count": 7,
   "metadata": {},
   "outputs": [],
   "source": [
    "def compute_R2(Y, pred):\n",
    "    \"\"\"\n",
    "    Tests a given linearized model by computing the coefficient\n",
    "    of determination (R^2). Returns R^2. R^2 is computed as the\n",
    "    square of the Pearson correlation between the labels and\n",
    "    the predictions.\n",
    "    Args:\n",
    "        Y: The data labels\n",
    "        pred: The predicted valus\n",
    "    Returns:\n",
    "        R2: The coefficient of determination\n",
    "    \"\"\"\n",
    "    pearson = np.corrcoef(Y, pred)[0, 1]\n",
    "    R2 = pearson ** 2\n",
    "    return R2"
   ]
  },
  {
   "cell_type": "code",
   "execution_count": 8,
   "metadata": {},
   "outputs": [],
   "source": [
    "def cross_validation(y, X, k_fold, lambda_arr):\n",
    "    \"\"\"\n",
    "    Performs k fold cross validation with three way split in each\n",
    "    iteration. The aim is to tune the ridge regression's regularizer,\n",
    "    lambda. Hence each value in an array of lambda values is integrated\n",
    "    into the model and coefficient of determination (R^2) is calculated\n",
    "    for each case. \n",
    "    Args:\n",
    "        y: The data labels\n",
    "        X: The regressors\n",
    "        k_fold: Number of folds in cross validation\n",
    "        lambda_arr: The regularization parameters to select from\n",
    "    Returns:\n",
    "        double_dict_valid: The R^2 values calculated in the validation\n",
    "            set for each fold and lambda value, stored as a dictionary.\n",
    "        double_dict_test: The R^2 values calculated in the test set \n",
    "            for each fold and lambda value, stored as a dictionary.\n",
    "    \"\"\"\n",
    "    N = np.size(y)\n",
    "    idx_unit = int(N / k_fold) \n",
    "    double_dict_valid = defaultdict(dict)\n",
    "    double_dict_test = defaultdict(dict)\n",
    "    for i in range(k_fold):\n",
    "        valid_start = i * idx_unit\n",
    "        test_start = (i + 1) * idx_unit\n",
    "        train_start = (i + 2) * idx_unit\n",
    "        valid_indices = np.arange(valid_start, test_start) % N\n",
    "        test_indices = np.arange(test_start, train_start) % N\n",
    "        train_indices = np.arange(train_start, N + valid_start) % N\n",
    "        y_valid = y[valid_indices]\n",
    "        X_valid = X[valid_indices]\n",
    "        y_test = y[test_indices]\n",
    "        X_test = X[test_indices]\n",
    "        y_train = y[train_indices]\n",
    "        X_train = X[train_indices]\n",
    "        for lambda_ in lambda_arr:\n",
    "            w = ridge(y_train, X_train, lambda_)\n",
    "            double_dict_valid[i][lambda_] = compute_R2(y_valid, X_valid.dot(w))\n",
    "            double_dict_test[i][lambda_] = compute_R2(y_test, X_test.dot(w))\n",
    "    return double_dict_valid, double_dict_test"
   ]
  },
  {
   "cell_type": "code",
   "execution_count": 9,
   "metadata": {},
   "outputs": [],
   "source": [
    "K_FOLD = 10"
   ]
  },
  {
   "cell_type": "code",
   "execution_count": 10,
   "metadata": {},
   "outputs": [],
   "source": [
    "lambda_arr = np.logspace(0, 3.7, num=500, base=10)\n",
    "# Takes about a minute to execute \n",
    "double_dict_valid, double_dict_test = cross_validation(Yn, Xn, K_FOLD, lambda_arr)"
   ]
  },
  {
   "cell_type": "code",
   "execution_count": 11,
   "metadata": {
    "scrolled": true
   },
   "outputs": [
    {
     "data": {
      "image/png": "[encoded data removed]",
      "text/plain": [
       "<Figure size 432x288 with 1 Axes>"
      ]
     },
     "metadata": {},
     "output_type": "display_data"
    }
   ],
   "source": [
    "figure_num = 0\n",
    "plt.figure(figure_num)\n",
    "figure_num += 1\n",
    "legend_arr = []\n",
    "for i in range(K_FOLD):\n",
    "    plt.plot(lambda_arr, double_dict_valid[i].values())\n",
    "    legend_arr.append('fold ' + str(i))\n",
    "plt.legend(legend_arr)\n",
    "plt.title('R^2 vs lambda across folds (on validation set)')\n",
    "plt.xlabel('lambda')\n",
    "plt.ylabel('R^2')\n",
    "plt.show(block=False)"
   ]
  },
  {
   "cell_type": "code",
   "execution_count": 12,
   "metadata": {},
   "outputs": [
    {
     "data": {
      "image/png": "[encoded data removed]",
      "text/plain": [
       "<Figure size 432x288 with 1 Axes>"
      ]
     },
     "metadata": {},
     "output_type": "display_data"
    }
   ],
   "source": [
    "plt.figure(figure_num)\n",
    "figure_num += 1\n",
    "legend_arr = []\n",
    "for i in range(K_FOLD):\n",
    "    plt.plot(lambda_arr, double_dict_test[i].values())\n",
    "    legend_arr.append('fold ' + str(i))\n",
    "plt.legend(legend_arr)\n",
    "plt.title('R^2 vs lambda across folds (on test set)')\n",
    "plt.xlabel('lambda')\n",
    "plt.ylabel('R^2')\n",
    "plt.show(block=False)"
   ]
  },
  {
   "cell_type": "code",
   "execution_count": 13,
   "metadata": {},
   "outputs": [],
   "source": [
    "lambda_dict_valid = dict()\n",
    "for lambda_ in lambda_arr:\n",
    "    R2_values = [double_dict_valid[int(k)][lambda_] for k in double_dict_valid]\n",
    "    lambda_dict_valid[lambda_] = np.mean(R2_values)"
   ]
  },
  {
   "cell_type": "code",
   "execution_count": 14,
   "metadata": {},
   "outputs": [],
   "source": [
    "lambda_dict_test = dict()\n",
    "for lambda_ in lambda_arr:\n",
    "    R2_values = [double_dict_test[int(k)][lambda_] for k in double_dict_test]\n",
    "    lambda_dict_test[lambda_] = np.mean(R2_values)"
   ]
  },
  {
   "cell_type": "code",
   "execution_count": 15,
   "metadata": {},
   "outputs": [
    {
     "name": "stdout",
     "output_type": "stream",
     "text": [
      "Optimal lambda: 393.72263299634835 \n",
      "Corresponding R^2 in validation set: 0.152598818091637 \n",
      "Corresponding R^2 in test set: 0.16042298116698678\n"
     ]
    }
   ],
   "source": [
    "lambda_optimal = max(lambda_dict_valid, key=lambda k: lambda_dict_valid[k])\n",
    "print('Optimal lambda:', lambda_optimal,\n",
    "      '\\nCorresponding R^2 in validation set:', lambda_dict_valid[lambda_optimal], \n",
    "      '\\nCorresponding R^2 in test set:', lambda_dict_test[lambda_optimal])"
   ]
  },
  {
   "cell_type": "code",
   "execution_count": 16,
   "metadata": {
    "scrolled": true
   },
   "outputs": [
    {
     "data": {
      "image/png": "[encoded data removed]",
      "text/plain": [
       "<Figure size 432x288 with 1 Axes>"
      ]
     },
     "metadata": {},
     "output_type": "display_data"
    }
   ],
   "source": [
    "figure_num = 0\n",
    "lists1 = sorted(lambda_dict_valid.items()) # list of tuples sorted by key\n",
    "x1, y1 = zip(*lists1) # unpack a list of pairs into two tuples\n",
    "plt.figure(figure_num)\n",
    "figure_num += 1\n",
    "plt.plot(x1, y1, color='b')\n",
    "plt.ylabel('R^2')\n",
    "plt.xlabel('lambda')\n",
    "plt.title('R^2 vs lambda (on validation set)')\n",
    "plt.show()"
   ]
  },
  {
   "cell_type": "code",
   "execution_count": 17,
   "metadata": {
    "scrolled": true
   },
   "outputs": [
    {
     "data": {
      "image/png": "[encoded data removed]",
      "text/plain": [
       "<Figure size 432x288 with 1 Axes>"
      ]
     },
     "metadata": {},
     "output_type": "display_data"
    }
   ],
   "source": [
    "lists2 = sorted(lambda_dict_test.items()) # list of tuples sorted by key\n",
    "x2, y2 = zip(*lists2) # unpack a list of pairs into two tuples\n",
    "plt.figure(figure_num)\n",
    "figure_num += 1\n",
    "plt.plot(x2, y2, color='r')\n",
    "plt.ylabel('R^2')\n",
    "plt.xlabel('lambda')\n",
    "plt.title('R^2 vs lambda (on test set)')\n",
    "plt.show()"
   ]
  }
 ],
 "metadata": {
  "kernelspec": {
   "display_name": "Python 3",
   "language": "python",
   "name": "python3"
  },
  "language_info": {
   "codemirror_mode": {
    "name": "ipython",
    "version": 3
   },
   "file_extension": ".py",
   "mimetype": "text/x-python",
   "name": "python",
   "nbconvert_exporter": "python",
   "pygments_lexer": "ipython3",
   "version": "3.6.5"
  }
 },
 "nbformat": 4,
 "nbformat_minor": 2
}

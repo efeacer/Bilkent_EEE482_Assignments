{
 "cells": [
  {
   "cell_type": "markdown",
   "metadata": {},
   "source": [
    "# Question 3"
   ]
  },
  {
   "cell_type": "code",
   "execution_count": 1,
   "metadata": {},
   "outputs": [
    {
     "name": "stderr",
     "output_type": "stream",
     "text": [
      "/Users/user/anaconda3/lib/python3.6/site-packages/h5py/__init__.py:36: FutureWarning: Conversion of the second argument of issubdtype from `float` to `np.floating` is deprecated. In future, it will be treated as `np.float64 == np.dtype(float).type`.\n",
      "  from ._conv import register_converters as _register_converters\n"
     ]
    }
   ],
   "source": [
    "# Necessary imports\n",
    "import numpy as np\n",
    "import matplotlib.pyplot as plt # for plots\n",
    "import h5py # to be able to use v 7.3 .mat file in the Python \n",
    "from scipy.stats import norm # for standard normal cdf"
   ]
  },
  {
   "cell_type": "code",
   "execution_count": 2,
   "metadata": {},
   "outputs": [
    {
     "name": "stdout",
     "output_type": "stream",
     "text": [
      "QUESTION 3\n",
      "\n"
     ]
    }
   ],
   "source": [
    "# QUESTION 3\n",
    "print('QUESTION 3\\n')"
   ]
  },
  {
   "cell_type": "code",
   "execution_count": 3,
   "metadata": {},
   "outputs": [],
   "source": [
    "with h5py.File('hw3_data2.mat', 'r') as file:\n",
    "    data_keys = list(file.keys())\n",
    "\n",
    "data = dict()\n",
    "with h5py.File('hw3_data2.mat', 'r') as file:\n",
    "        for key in data_keys:\n",
    "            data[key] = np.array(file[key])"
   ]
  },
  {
   "cell_type": "code",
   "execution_count": 4,
   "metadata": {},
   "outputs": [
    {
     "name": "stdout",
     "output_type": "stream",
     "text": [
      "Shape of Yn: (1000,)\n",
      "Shape of Xn: (1000, 100)\n"
     ]
    }
   ],
   "source": [
    "Yn = data['Yn'].flatten()\n",
    "Xn = data['Xn'].T\n",
    "print('Shape of Yn:', np.shape(Yn))\n",
    "print('Shape of Xn:', np.shape(Xn))"
   ]
  },
  {
   "cell_type": "code",
   "execution_count": 5,
   "metadata": {},
   "outputs": [
    {
     "name": "stdout",
     "output_type": "stream",
     "text": [
      "PART A\n"
     ]
    }
   ],
   "source": [
    "# PART A\n",
    "print('PART A')"
   ]
  },
  {
   "cell_type": "code",
   "execution_count": 6,
   "metadata": {},
   "outputs": [],
   "source": [
    "def ridge(y, X, lambda_):\n",
    "    \"\"\"\n",
    "    Given data labels and regressors, learns an optimal weight\n",
    "    vector according to the ridge regression formulation.\n",
    "    Args:\n",
    "        y: The data labels\n",
    "        X: The regressors\n",
    "        lambda_: The regularization parameter\n",
    "    Returns \n",
    "        w_optimal: The optimal weight vector\n",
    "    \"\"\"\n",
    "    K = np.shape(X)[1]\n",
    "    temp = np.linalg.inv(X.T.dot(X) + lambda_ * np.eye(K))\n",
    "    w_optimal = temp.dot(X.T).dot(y)\n",
    "    return w_optimal"
   ]
  },
  {
   "cell_type": "code",
   "execution_count": 7,
   "metadata": {},
   "outputs": [],
   "source": [
    "def compute_R2(Y, pred):\n",
    "    \"\"\"\n",
    "    Tests a given linearized model by computing the coefficient\n",
    "    of determination (R^2). R^2 is computed as the square of the \n",
    "    Pearson correlation between the labels and the predictions.\n",
    "    Args:\n",
    "        Y: The data labels\n",
    "        pred: The predicted valus\n",
    "    Returns:\n",
    "        R2: The coefficient of determination\n",
    "    \"\"\"\n",
    "    pearson = np.corrcoef(Y, pred)[0, 1]\n",
    "    R2 = pearson ** 2\n",
    "    return R2"
   ]
  },
  {
   "cell_type": "code",
   "execution_count": 8,
   "metadata": {},
   "outputs": [],
   "source": [
    "def cross_validation(y, X, k_fold, lambda_arr):\n",
    "    \"\"\"\n",
    "    Performs k fold cross validation with three way split in each\n",
    "    iteration. The aim is to tune the ridge regression's regularizer,\n",
    "    lambda. Hence each value in an array of lambda values is integrated\n",
    "    into the model and coefficient of determination (R^2) is calculated\n",
    "    for each case. \n",
    "    Args:\n",
    "        y: The data labels\n",
    "        X: The regressors\n",
    "        k_fold: Number of folds in cross validation\n",
    "        lambda_arr: The regularization parameters to select from\n",
    "    Returns:\n",
    "        dict_valid: The R^2 values calculated in the validation\n",
    "            set for each fold and lambda value, stored as a dictionary.\n",
    "        dict_test: The R^2 values calculated in the test set \n",
    "            for each fold and lambda value, stored as a dictionary.\n",
    "    \"\"\"\n",
    "    N = np.size(y)\n",
    "    idx_unit = int(N / k_fold) \n",
    "    dict_valid = dict()\n",
    "    dict_test = dict()\n",
    "    for i in range(k_fold):\n",
    "        valid_start = i * idx_unit\n",
    "        test_start = (i + 1) * idx_unit\n",
    "        train_start = (i + 2) * idx_unit\n",
    "        valid_indices = np.arange(valid_start, test_start) % N\n",
    "        test_indices = np.arange(test_start, train_start) % N\n",
    "        train_indices = np.arange(train_start, N + valid_start) % N\n",
    "        y_valid = y[valid_indices]\n",
    "        X_valid = X[valid_indices]\n",
    "        y_test = y[test_indices]\n",
    "        X_test = X[test_indices]\n",
    "        y_train = y[train_indices]\n",
    "        X_train = X[train_indices]\n",
    "        for lambda_ in lambda_arr:\n",
    "            w = ridge(y_train, X_train, lambda_)\n",
    "            dict_valid.setdefault(lambda_, []).append(compute_R2(y_valid, X_valid.dot(w)))\n",
    "            dict_test.setdefault(lambda_, []).append(compute_R2(y_test, X_test.dot(w)))\n",
    "    dict_valid = dict((k, np.mean(v)) for k, v in dict_valid.items())\n",
    "    dict_test = dict((k, np.mean(v)) for k, v in dict_test.items())\n",
    "    return dict_valid, dict_test"
   ]
  },
  {
   "cell_type": "code",
   "execution_count": 9,
   "metadata": {},
   "outputs": [],
   "source": [
    "K_FOLD = 10"
   ]
  },
  {
   "cell_type": "code",
   "execution_count": 10,
   "metadata": {},
   "outputs": [],
   "source": [
    "lambda_arr = np.logspace(0, 12, num=500, base=10)\n",
    "# Takes about a minute to execute \n",
    "dict_valid, dict_test = cross_validation(Yn, Xn, K_FOLD, lambda_arr)"
   ]
  },
  {
   "cell_type": "code",
   "execution_count": 11,
   "metadata": {},
   "outputs": [
    {
     "name": "stdout",
     "output_type": "stream",
     "text": [
      "Optimal lambda: 395.5436244734702 \n",
      "Corresponding R^2 in validation set: 0.15259887784859996 \n",
      "Corresponding R^2 in test set: 0.16042061044928463\n"
     ]
    }
   ],
   "source": [
    "lambda_optimal = max(dict_valid, key=lambda k: dict_valid[k])\n",
    "print('Optimal lambda:', lambda_optimal,\n",
    "      '\\nCorresponding R^2 in validation set:', dict_valid[lambda_optimal], \n",
    "      '\\nCorresponding R^2 in test set:', dict_test[lambda_optimal])"
   ]
  },
  {
   "cell_type": "code",
   "execution_count": 12,
   "metadata": {
    "scrolled": true
   },
   "outputs": [
    {
     "data": {
      "image/png": "[encoded data removed]",
      "text/plain": [
       "<Figure size 432x288 with 1 Axes>"
      ]
     },
     "metadata": {},
     "output_type": "display_data"
    }
   ],
   "source": [
    "figure_num = 0\n",
    "lists1 = sorted(dict_valid.items()) # list of tuples sorted by key\n",
    "x1, y1 = zip(*lists1) # unpack a list of pairs into two tuples\n",
    "lists2 = sorted(dict_test.items()) \n",
    "x2, y2 = zip(*lists2) \n",
    "plt.figure(figure_num)\n",
    "figure_num += 1\n",
    "plt.plot(x2, y2, color='r')\n",
    "plt.plot(x1, y1, color='b')\n",
    "plt.legend(['test set', 'validation set',])\n",
    "plt.ylabel('R^2')\n",
    "plt.xlabel('lambda')\n",
    "plt.title('R^2 vs lambda')\n",
    "plt.xscale('log')\n",
    "plt.grid()\n",
    "plt.show(block=False)"
   ]
  },
  {
   "cell_type": "code",
   "execution_count": 13,
   "metadata": {},
   "outputs": [
    {
     "name": "stdout",
     "output_type": "stream",
     "text": [
      "PART B\n"
     ]
    }
   ],
   "source": [
    "# PART B\n",
    "print('PART B')"
   ]
  },
  {
   "cell_type": "code",
   "execution_count": 14,
   "metadata": {},
   "outputs": [],
   "source": [
    "NUM_ITER = 500 # number of bootstrap iterations\n",
    "N = np.size(Yn) # number of samples "
   ]
  },
  {
   "cell_type": "code",
   "execution_count": 15,
   "metadata": {},
   "outputs": [],
   "source": [
    "np.random.seed(7) # to be able to reproduce the results\n",
    "w_bootstrap_OLS = []\n",
    "for _ in range(NUM_ITER):\n",
    "    # draw N samples with replacement \n",
    "    indices = np.arange(N)\n",
    "    bootstrap_indices = np.random.choice(indices, N)\n",
    "    # genereate the respective bootstrap labels and regressors\n",
    "    y_bootstrap = Yn[bootstrap_indices]\n",
    "    X_bootstrap = Xn[bootstrap_indices]\n",
    "    w_OLS = ridge(y_bootstrap, X_bootstrap, 0)\n",
    "    w_bootstrap_OLS.append(w_OLS)\n",
    "w_bootstrap_OLS = np.array(w_bootstrap_OLS).T # now rows indicate regressors"
   ]
  },
  {
   "cell_type": "code",
   "execution_count": 16,
   "metadata": {},
   "outputs": [],
   "source": [
    "x_vals = np.arange(1, 101)\n",
    "w_mean_OLS = np.mean(w_bootstrap_OLS, axis=1)\n",
    "w_std_OLS = np.std(w_bootstrap_OLS, axis=1)"
   ]
  },
  {
   "cell_type": "code",
   "execution_count": 17,
   "metadata": {},
   "outputs": [
    {
     "data": {
      "image/png": "[encoded data removed]",
      "text/plain": [
       "<Figure size 432x288 with 1 Axes>"
      ]
     },
     "metadata": {},
     "output_type": "display_data"
    }
   ],
   "source": [
    "plt.figure(figure_num)\n",
    "figure_num += 1\n",
    "plt.errorbar(x_vals, w_mean_OLS, yerr=2 * w_std_OLS, ecolor='r',\n",
    "             elinewidth=0.5, capsize=2)\n",
    "plt.title('Model weights, w (OLS)')\n",
    "plt.xlabel('i')\n",
    "plt.ylabel('value of w_i')\n",
    "plt.show(block=False)"
   ]
  },
  {
   "cell_type": "code",
   "execution_count": 18,
   "metadata": {},
   "outputs": [
    {
     "name": "stdout",
     "output_type": "stream",
     "text": [
      "Indices of the parameters that are significantly different than 0:\n",
      " [ 3  7 10 20 24 28 48 49 51 57 61 64 66 68 76 82 84 86 87 88 89 99]\n"
     ]
    }
   ],
   "source": [
    "z_vals = w_mean_OLS / w_std_OLS\n",
    "p_vals = 2 * (1 - norm.cdf(np.abs(z_vals)))\n",
    "significant_OLS = np.argwhere(p_vals < 0.05).flatten()\n",
    "print('Indices of the parameters that are significantly different than 0:\\n', \n",
    "      significant_OLS)"
   ]
  },
  {
   "cell_type": "code",
   "execution_count": 19,
   "metadata": {},
   "outputs": [
    {
     "name": "stdout",
     "output_type": "stream",
     "text": [
      "PART C\n"
     ]
    }
   ],
   "source": [
    "# PART C\n",
    "print('PART C')"
   ]
  },
  {
   "cell_type": "code",
   "execution_count": 20,
   "metadata": {},
   "outputs": [],
   "source": [
    "np.random.seed(7) # to be able to reproduce the results\n",
    "w_bootstrap_ridge = []\n",
    "for _ in range(NUM_ITER):\n",
    "    # draw N samples with replacement \n",
    "    indices = np.arange(N)\n",
    "    bootstrap_indices = np.random.choice(indices, N)\n",
    "    # genereate the respective bootstrap labels and regressors\n",
    "    y_bootstrap = Yn[bootstrap_indices]\n",
    "    X_bootstrap = Xn[bootstrap_indices]\n",
    "    w_ridge = ridge(y_bootstrap, X_bootstrap, lambda_optimal)\n",
    "    w_bootstrap_ridge.append(w_ridge)\n",
    "w_bootstrap_ridge = np.array(w_bootstrap_ridge).T # now rows indicate regressors"
   ]
  },
  {
   "cell_type": "code",
   "execution_count": 21,
   "metadata": {},
   "outputs": [],
   "source": [
    "w_mean_ridge = np.mean(w_bootstrap_ridge, axis=1)\n",
    "w_std_ridge = np.std(w_bootstrap_ridge, axis=1)"
   ]
  },
  {
   "cell_type": "code",
   "execution_count": 22,
   "metadata": {},
   "outputs": [
    {
     "data": {
      "image/png": "[encoded data removed]",
      "text/plain": [
       "<Figure size 432x288 with 1 Axes>"
      ]
     },
     "metadata": {},
     "output_type": "display_data"
    }
   ],
   "source": [
    "plt.figure(figure_num)\n",
    "figure_num += 1\n",
    "plt.errorbar(x_vals, w_mean_ridge, yerr=2 * w_std_ridge, \n",
    "             ecolor='r', elinewidth=0.5, capsize=2)\n",
    "plt.title('Model weights, w (Ridge)')\n",
    "plt.xlabel('i')\n",
    "plt.ylabel('value of w_i')\n",
    "plt.show(block=False)"
   ]
  },
  {
   "cell_type": "code",
   "execution_count": 23,
   "metadata": {},
   "outputs": [
    {
     "name": "stdout",
     "output_type": "stream",
     "text": [
      "Indices of the parameters that are significantly different than 0:\n",
      " [ 1  3  7  8 10 19 24 28 39 48 49 56 57 61 62 63 64 66 68 76 82 86 87 88\n",
      " 89 92 96 97 99]\n"
     ]
    }
   ],
   "source": [
    "z_vals = w_mean_ridge / w_std_ridge\n",
    "p_vals = 2 * (1 - norm.cdf(np.abs(z_vals)))\n",
    "significant_ridge = np.argwhere(p_vals < 0.05).flatten()\n",
    "print('Indices of the parameters that are significantly different than 0:\\n', \n",
    "      significant_ridge)"
   ]
  }
 ],
 "metadata": {
  "kernelspec": {
   "display_name": "Python 3",
   "language": "python",
   "name": "python3"
  },
  "language_info": {
   "codemirror_mode": {
    "name": "ipython",
    "version": 3
   },
   "file_extension": ".py",
   "mimetype": "text/x-python",
   "name": "python",
   "nbconvert_exporter": "python",
   "pygments_lexer": "ipython3",
   "version": "3.6.5"
  }
 },
 "nbformat": 4,
 "nbformat_minor": 2
}

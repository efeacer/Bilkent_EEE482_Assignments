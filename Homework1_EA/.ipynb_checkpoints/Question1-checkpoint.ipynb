{
 "cells": [
  {
   "cell_type": "markdown",
   "metadata": {},
   "source": [
    "# Question 1"
   ]
  },
  {
   "cell_type": "code",
   "execution_count": 1,
   "metadata": {},
   "outputs": [],
   "source": [
    "# Necessary imports\n",
    "import numpy as np"
   ]
  },
  {
   "cell_type": "code",
   "execution_count": 2,
   "metadata": {},
   "outputs": [
    {
     "name": "stdout",
     "output_type": "stream",
     "text": [
      "QUESTION 1\n",
      "\n"
     ]
    }
   ],
   "source": [
    "# QUESTION 1\n",
    "print('QUESTION 1\\n')"
   ]
  },
  {
   "cell_type": "code",
   "execution_count": 3,
   "metadata": {},
   "outputs": [
    {
     "name": "stdout",
     "output_type": "stream",
     "text": [
      "PART A\n",
      "\n",
      "A.x_n = [0. 0. 0.] \n",
      "As it can be seen the vector A.x_n is 0 for arbitrary alpha and beta.\n",
      "\n"
     ]
    }
   ],
   "source": [
    "# PART A\n",
    "print('PART A\\n')\n",
    "\n",
    "A = np.array([[1, 0, -1, 2],\n",
    "              [2, 1, -1, 5],\n",
    "              [3, 3, 0, 9]])\n",
    "alpha = np.random.rand()\n",
    "beta = np.random.rand()\n",
    "x_n = np.array([alpha - 2 * beta, \n",
    "                -alpha - beta, \n",
    "                alpha,\n",
    "                beta])\n",
    "print('A.x_n =', A.dot(x_n), \n",
    "      '\\nAs it can be seen the vector A.x_n is 0 for arbitrary alpha and beta.\\n')"
   ]
  },
  {
   "cell_type": "code",
   "execution_count": 4,
   "metadata": {},
   "outputs": [
    {
     "name": "stdout",
     "output_type": "stream",
     "text": [
      "PART B\n",
      "\n",
      "A.x_p = [1 4 9] \n",
      "As it can be seen the vector A.x_p equals the vector b.\n",
      "\n"
     ]
    }
   ],
   "source": [
    "# PART B\n",
    "print('PART B\\n')\n",
    "\n",
    "b = np.array([1, 4, 9])\n",
    "x_p = np.array([4, 2, 1, -1])\n",
    "print('A.x_p =', A.dot(x_p), \n",
    "      '\\nAs it can be seen the vector A.x_p equals the vector b.\\n')"
   ]
  },
  {
   "cell_type": "code",
   "execution_count": 5,
   "metadata": {},
   "outputs": [
    {
     "name": "stdout",
     "output_type": "stream",
     "text": [
      "PART C\n",
      "\n",
      "A.x_n_prime = [1. 4. 9.] \n",
      "As it can be seen the vector A.x_n_prime equals the vector b.\n",
      "\n"
     ]
    }
   ],
   "source": [
    "# PART C\n",
    "print('PART C\\n')\n",
    "\n",
    "alpha = np.random.rand()\n",
    "beta = np.random.rand()\n",
    "x_n_prime = np.array([alpha - 2 * beta + 1, \n",
    "                      -alpha - beta + 2, \n",
    "                      alpha,\n",
    "                      beta])\n",
    "print('A.x_n_prime =', A.dot(x_n_prime), \n",
    "      '\\nAs it can be seen the vector A.x_n_prime equals the vector b.\\n')"
   ]
  },
  {
   "cell_type": "code",
   "execution_count": 6,
   "metadata": {},
   "outputs": [
    {
     "name": "stdout",
     "output_type": "stream",
     "text": [
      "PART D\n",
      "\n",
      "[[ 1.00000000e+00 -4.99600361e-16 -1.00000000e+00  2.00000000e+00]\n",
      " [ 2.00000000e+00  1.00000000e+00 -1.00000000e+00  5.00000000e+00]\n",
      " [ 3.00000000e+00  3.00000000e+00  1.33226763e-15  9.00000000e+00]] \n",
      " is an approximation of A.\n",
      "A_+:\n",
      " [[ 0.12693498  0.10835913 -0.05572755]\n",
      " [-0.23529412 -0.17647059  0.17647059]\n",
      " [-0.3622291  -0.28482972  0.23219814]\n",
      " [ 0.01857585  0.04024768  0.06501548]] \n",
      "\n",
      "[[ 1.00000000e+00 -3.33066907e-16 -1.00000000e+00  2.00000000e+00]\n",
      " [ 2.00000000e+00  1.00000000e+00 -1.00000000e+00  5.00000000e+00]\n",
      " [ 3.00000000e+00  3.00000000e+00  1.38777878e-15  9.00000000e+00]] \n",
      " is also an approximation of A, but here pinv() is used to compute A_+.\n",
      "A_+:\n",
      " [[ 0.12693498  0.10835913 -0.05572755]\n",
      " [-0.23529412 -0.17647059  0.17647059]\n",
      " [-0.3622291  -0.28482972  0.23219814]\n",
      " [ 0.01857585  0.04024768  0.06501548]] \n",
      "\n"
     ]
    }
   ],
   "source": [
    "# PART D\n",
    "print('PART D\\n')\n",
    "\n",
    "U, S, V_T = np.linalg.svd(A)\n",
    "Sigma_plus = np.zeros(A.shape)\n",
    "Sigma_plus[:len(S), :len(S)] = np.diag(np.concatenate((1 / S[0:2], np.array([0]))))\n",
    "Sigma_plus = Sigma_plus.T\n",
    "A_plus = V_T.T.dot(Sigma_plus).dot(U.T)\n",
    "print(A.dot(A_plus).dot(A), '\\n is an approximation of A.')\n",
    "print('A_+:\\n', A_plus, '\\n')\n",
    "\n",
    "A_plus = np.linalg.pinv(A)\n",
    "print(A.dot(A_plus).dot(A), \n",
    "      '\\n is also an approximation of A, but here pinv() is used to compute A_+.')\n",
    "print('A_+:\\n', A_plus, '\\n')"
   ]
  },
  {
   "cell_type": "code",
   "execution_count": 7,
   "metadata": {},
   "outputs": [
    {
     "name": "stdout",
     "output_type": "stream",
     "text": [
      "PART E\n",
      "\n",
      "alpha =  0  beta =  0\n",
      "x_sparsest =  [1 2 0 0]\n",
      "A.x_sparsest = [1. 4. 9.] \n",
      "x_sparsest satisfies the system as it can be seen.\n",
      "\n",
      "alpha =  1  beta =  1\n",
      "x_sparsest =  [0 0 1 1]\n",
      "A.x_sparsest = [1. 4. 9.] \n",
      "x_sparsest satisfies the system as it can be seen.\n",
      "\n",
      "alpha =  0  beta =  0.5\n",
      "x_sparsest =  [0.  1.5 0.  0.5]\n",
      "A.x_sparsest = [1. 4. 9.] \n",
      "x_sparsest satisfies the system as it can be seen.\n",
      "\n",
      "alpha =  0  beta =  2\n",
      "x_sparsest =  [-3  0  0  2]\n",
      "A.x_sparsest = [1. 4. 9.] \n",
      "x_sparsest satisfies the system as it can be seen.\n",
      "\n",
      "alpha =  -1  beta =  0\n",
      "x_sparsest =  [ 0  3 -1  0]\n",
      "A.x_sparsest = [1. 4. 9.] \n",
      "x_sparsest satisfies the system as it can be seen.\n",
      "\n",
      "alpha =  2  beta =  0\n",
      "x_sparsest =  [3 0 2 0]\n",
      "A.x_sparsest = [1. 4. 9.] \n",
      "x_sparsest satisfies the system as it can be seen.\n",
      "\n"
     ]
    }
   ],
   "source": [
    "# PART E\n",
    "print('PART E\\n')\n",
    "\n",
    "# the tuples (alpha, beta) that results in one of the sparsest solutions\n",
    "sparsest_args = [(0, 0), (1, 1), (0, 1 / 2), (0, 2), (-1, 0), (2, 0)] \n",
    "\n",
    "for alpha_sparse, beta_sparse in sparsest_args:\n",
    "    x_sparsest = np.array([alpha_sparse - 2 * beta_sparse + 1, \n",
    "                           -alpha_sparse - beta_sparse + 2, \n",
    "                           alpha_sparse,\n",
    "                           beta_sparse])\n",
    "    print('alpha = ', alpha_sparse, ' beta = ', beta_sparse)\n",
    "    print('x_sparsest = ', x_sparsest)\n",
    "    print('A.x_sparsest =', A.dot(x_n_prime), \n",
    "          '\\nx_sparsest satisfies the system as it can be seen.\\n')\n",
    "    "
   ]
  },
  {
   "cell_type": "code",
   "execution_count": 8,
   "metadata": {},
   "outputs": [
    {
     "name": "stdout",
     "output_type": "stream",
     "text": [
      "PART F\n",
      "\n",
      "The least norm solution:  [0.05882353 0.64705882 0.58823529 0.76470588]\n"
     ]
    }
   ],
   "source": [
    "# PART F\n",
    "print('PART F\\n')\n",
    "\n",
    "# A_plus = np.linalg.pinv(A)\n",
    "x_least_norm = A_plus.dot(b)\n",
    "\n",
    "print('The least norm solution: ', x_least_norm)"
   ]
  }
 ],
 "metadata": {
  "kernelspec": {
   "display_name": "Python 3",
   "language": "python",
   "name": "python3"
  },
  "language_info": {
   "codemirror_mode": {
    "name": "ipython",
    "version": 3
   },
   "file_extension": ".py",
   "mimetype": "text/x-python",
   "name": "python",
   "nbconvert_exporter": "python",
   "pygments_lexer": "ipython3",
   "version": "3.6.5"
  }
 },
 "nbformat": 4,
 "nbformat_minor": 2
}

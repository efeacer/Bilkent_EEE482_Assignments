{
 "cells": [
  {
   "cell_type": "markdown",
   "metadata": {},
   "source": [
    "# Question 4"
   ]
  },
  {
   "cell_type": "code",
   "execution_count": 1,
   "metadata": {},
   "outputs": [],
   "source": [
    "# Necessary imports\n",
    "import numpy as np\n",
    "import matplotlib.pyplot as plt\n",
    "from matplotlib.patches import Ellipse"
   ]
  },
  {
   "cell_type": "code",
   "execution_count": 2,
   "metadata": {},
   "outputs": [
    {
     "name": "stdout",
     "output_type": "stream",
     "text": [
      "QUESTION 4\n",
      "\n"
     ]
    }
   ],
   "source": [
    "# QUESTION 4\n",
    "print('QUESTION 4\\n')"
   ]
  },
  {
   "cell_type": "code",
   "execution_count": 3,
   "metadata": {},
   "outputs": [],
   "source": [
    "def decompose(A):\n",
    "    \"\"\"\n",
    "    Given a positive definite matrix A, computes and returns a \n",
    "    matrix Y such that Y^T.Y decomposes A. This decomposition \n",
    "    is a special case of SVD for positive definite matrices.\n",
    "    Args:\n",
    "        A: A positive definite matrix\n",
    "    Returns:\n",
    "        Y: A matrix such that A = Y^T.Y\n",
    "    \"\"\"\n",
    "    Q, L, Q_T = np.linalg.svd(A) \n",
    "    L_sqrt = np.sqrt(np.diag(L))\n",
    "    Y = L_sqrt.dot(Q_T)\n",
    "    return Y"
   ]
  },
  {
   "cell_type": "code",
   "execution_count": 4,
   "metadata": {},
   "outputs": [],
   "source": [
    "def ndRandn(mean, cov, num=1):\n",
    "    \"\"\"\n",
    "    Generates a set of samples drawn from a multidimensional \n",
    "    Gaussian distribution with the specified mean (an N-vector)\n",
    "    and covariance (an NxN matrix). The parameter num specifies\n",
    "    the number of samples to return (default is 1).\n",
    "    Args:\n",
    "        mean: The mean of the multidimensional Gaussian \n",
    "            distribution (an N-vector)\n",
    "        cov: The covariance of the multidimensional Gaussian\n",
    "            distribution (an NXN matrix)\n",
    "        num: Number of samples to return (default is 1)\n",
    "    Returns:\n",
    "        samples: A set of samples drawn from a multidimensional \n",
    "            Gaussian distribution (stored as a 2D numpy array)\n",
    "    \"\"\"\n",
    "    samples = []\n",
    "    N = np.size(cov, 0)\n",
    "    zero_mean = np.zeros(N)\n",
    "    ident_cov = np.identity(N)\n",
    "    for _ in range(num):\n",
    "        # Prepare a zero mean, unit covariance sample, that will later be adjusted\n",
    "        sample_ident_cov = np.random.multivariate_normal(zero_mean, ident_cov)\n",
    "        # We can apply a special case of SVD to decompose A as Y^T.Y\n",
    "        # Y = np.linalg.cholesky(cov).T # alternative library function\n",
    "        Y = decompose(cov)\n",
    "        # Adjust the sample to have the specified mean and covariance\n",
    "        sample = sample_ident_cov.dot(Y)\n",
    "        sample += mean\n",
    "        samples.append(sample)\n",
    "    return np.array(samples)"
   ]
  },
  {
   "cell_type": "code",
   "execution_count": 5,
   "metadata": {},
   "outputs": [],
   "source": [
    "def get_standard_deviational_ellipse(sample_mean, sample_cov):\n",
    "    \"\"\"\n",
    "    Generates the standard deviational ellipse\n",
    "    for the data drawn from a particular 2-dimensional Gaussian\n",
    "    Distribution.  \n",
    "    Args:\n",
    "        sample_mean: The mean of the 2-dimensional Gaussian \n",
    "            distribution samples (a 2-vector)\n",
    "        sample_cov: The covariance of the 2-dimensional Gaussian\n",
    "            distribution samples(a 2X2 matrix)\n",
    "    Returns:\n",
    "        error_ellipse: The Ellipse object representing\n",
    "            the standard deviational ellipse\n",
    "    \"\"\"\n",
    "    eigvals, eigvecs = np.linalg.eig(sample_cov)\n",
    "    descending_order = eigvals.argsort()[::-1]\n",
    "    eigvals = eigvals[descending_order]\n",
    "    eigvecs = eigvecs[descending_order]\n",
    "    theta = np.rad2deg(-np.arctan2(eigvecs[0, 1], eigvecs[0, 0]))\n",
    "    width = np.sqrt(eigvals[0]) * 2 * 2 \n",
    "    height = np.sqrt(eigvals[1]) * 2 * 2\n",
    "    error_ellipse = Ellipse(xy=sample_mean, width=width, height=height,\n",
    "                            angle=theta, edgecolor='r', fc='None', lw=2)\n",
    "    return error_ellipse"
   ]
  },
  {
   "cell_type": "code",
   "execution_count": 6,
   "metadata": {},
   "outputs": [
    {
     "name": "stdout",
     "output_type": "stream",
     "text": [
      "Mean of the samples is:\n",
      " [ 1.96912494 10.02247311]\n",
      "Covariance of the samples is:\n",
      " [[ 1.00642217 -0.96585274]\n",
      " [-0.96585274  3.97557061]]\n"
     ]
    },
    {
     "data": {
      "image/png": "[encoded data removed]",
      "text/plain": [
       "<Figure size 432x288 with 1 Axes>"
      ]
     },
     "metadata": {},
     "output_type": "display_data"
    }
   ],
   "source": [
    "mean = np.array([2, 10])\n",
    "cov = np.array([[1, -1],\n",
    "                [-1, 4]])\n",
    "samples = ndRandn(mean, cov, 1000)\n",
    "sample_mean = np.mean(samples, axis=0)\n",
    "print('Mean of the samples is:\\n', sample_mean)\n",
    "sample_cov = np.cov(samples, rowvar=False)\n",
    "print('Covariance of the samples is:\\n', sample_cov)\n",
    "x = [sample[0] for sample in samples]\n",
    "y = [sample[1] for sample in samples]\n",
    "plt.scatter(x, y, s=30)\n",
    "ellipse = get_standard_deviational_ellipse(sample_mean, sample_cov)\n",
    "plt.figure(1)\n",
    "plt.title('The Standard Deviational Ellipse')\n",
    "plt.gca().add_patch(ellipse)\n",
    "plt.show()"
   ]
  }
 ],
 "metadata": {
  "kernelspec": {
   "display_name": "Python 3",
   "language": "python",
   "name": "python3"
  },
  "language_info": {
   "codemirror_mode": {
    "name": "ipython",
    "version": 3
   },
   "file_extension": ".py",
   "mimetype": "text/x-python",
   "name": "python",
   "nbconvert_exporter": "python",
   "pygments_lexer": "ipython3",
   "version": "3.6.5"
  }
 },
 "nbformat": 4,
 "nbformat_minor": 2
}

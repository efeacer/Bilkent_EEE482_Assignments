{
 "cells": [
  {
   "cell_type": "markdown",
   "metadata": {},
   "source": [
    "# Question 4"
   ]
  },
  {
   "cell_type": "code",
   "execution_count": 1,
   "metadata": {},
   "outputs": [
    {
     "name": "stderr",
     "output_type": "stream",
     "text": [
      "/Users/user/anaconda3/lib/python3.6/site-packages/h5py/__init__.py:36: FutureWarning: Conversion of the second argument of issubdtype from `float` to `np.floating` is deprecated. In future, it will be treated as `np.float64 == np.dtype(float).type`.\n",
      "  from ._conv import register_converters as _register_converters\n"
     ]
    }
   ],
   "source": [
    "# Necessary imports\n",
    "import numpy as np\n",
    "import matplotlib.pyplot as plt\n",
    "import h5py # to be able to use v7.3 .mat files in Python\n",
    "from scipy.spatial.distance import cdist # Python equivalent of pdist2\n",
    "from scipy.optimize import bisect"
   ]
  },
  {
   "cell_type": "code",
   "execution_count": 2,
   "metadata": {},
   "outputs": [
    {
     "name": "stdout",
     "output_type": "stream",
     "text": [
      "Shape of the data associated with stype: (181, 1) \n",
      "\n",
      "Shape of the data associated with vresp: (1626, 181) \n",
      "\n"
     ]
    }
   ],
   "source": [
    "with h5py.File('hw4_data3.mat', 'r') as file:\n",
    "    data_keys = list(file.keys())\n",
    "\n",
    "data_ = dict()\n",
    "with h5py.File('hw4_data3.mat', 'r') as file:\n",
    "    for key in data_keys:\n",
    "        data_[key] = np.array(file[key])\n",
    "        print('Shape of the data associated with %s:' % key,\n",
    "              np.shape(data_[key]), '\\n')"
   ]
  },
  {
   "cell_type": "code",
   "execution_count": 3,
   "metadata": {},
   "outputs": [
    {
     "name": "stdout",
     "output_type": "stream",
     "text": [
      "QUESTION 2\n"
     ]
    }
   ],
   "source": [
    "# QUESTION 2\n",
    "print('QUESTION 2')"
   ]
  },
  {
   "cell_type": "code",
   "execution_count": 4,
   "metadata": {},
   "outputs": [],
   "source": [
    "stype = np.array(data_['stype'])\n",
    "vresp = np.array(data_['vresp']).T"
   ]
  },
  {
   "cell_type": "code",
   "execution_count": 5,
   "metadata": {},
   "outputs": [
    {
     "name": "stdout",
     "output_type": "stream",
     "text": [
      "PART A\n"
     ]
    }
   ],
   "source": [
    "# PART A\n",
    "print('PART A')"
   ]
  },
  {
   "cell_type": "code",
   "execution_count": 6,
   "metadata": {},
   "outputs": [],
   "source": [
    "# Compute similarity matrix using euclidean distance\n",
    "sim_euclidean = cdist(vresp, vresp, metric='euclidean')"
   ]
  },
  {
   "cell_type": "code",
   "execution_count": 7,
   "metadata": {},
   "outputs": [],
   "source": [
    "def cmdscale(D):\n",
    "    \"\"\"\n",
    "    Implementation of the classical multidimensional scaling (MDS) algorithm.\n",
    "    Args:\n",
    "        D: The symmetric matrix containing the distances between n \n",
    "            objects in p dimensions\n",
    "    Returns:\n",
    "        X: Coordinates of n objects in 2 dimensions\n",
    "    \"\"\"\n",
    "    N = D.shape[0]\n",
    "    # Double centering procedure\n",
    "    J = np.eye(N) - np.ones((N, N)) / N\n",
    "    B = - J.dot(D ** 2).dot(J) / 2 # = X.X^T\n",
    "    # Diagonalization\n",
    "    evals, evecs = np.linalg.eigh(B)\n",
    "    # Sort eigenpairs according to the descending order of eigenvalues                                               \n",
    "    idx = np.argsort(evals)[::-1]\n",
    "    evals = evals[idx]\n",
    "    evecs = evecs[:, idx]\n",
    "    # Extract the positive eigenvalues \n",
    "    pos_idx = np.where(evals > 0)[0]\n",
    "    L = np.diag(np.sqrt(evals[pos_idx]))\n",
    "    E = evecs[:, pos_idx]\n",
    "    X = E.dot(L)\n",
    "    return X"
   ]
  },
  {
   "cell_type": "code",
   "execution_count": 8,
   "metadata": {},
   "outputs": [],
   "source": [
    "# Run classical MDS\n",
    "MDS_euclidean = cmdscale(sim_euclidean)"
   ]
  },
  {
   "cell_type": "code",
   "execution_count": 9,
   "metadata": {},
   "outputs": [],
   "source": [
    "# Get the projections onto the first two MDS components\n",
    "X_euclidean = MDS_euclidean[:, 0:2]"
   ]
  },
  {
   "cell_type": "code",
   "execution_count": 10,
   "metadata": {},
   "outputs": [],
   "source": [
    "FACE_INDICES = np.where(stype == 1)[0]\n",
    "BUILDING_INDICES = np.where(stype == 2)[0]"
   ]
  },
  {
   "cell_type": "code",
   "execution_count": 11,
   "metadata": {},
   "outputs": [],
   "source": [
    "# Separate data with different labels\n",
    "X_face_euclidean = X_euclidean[FACE_INDICES]\n",
    "X_building_euclidean = X_euclidean[BUILDING_INDICES]"
   ]
  },
  {
   "cell_type": "code",
   "execution_count": 12,
   "metadata": {},
   "outputs": [],
   "source": [
    "def compute_class_means(data, labels, num_classes):\n",
    "    \"\"\"\n",
    "    Computes the mean of each class.\n",
    "    Args:\n",
    "        data: The input data\n",
    "        labels: The given classes of each data point\n",
    "        num_classes: Number of classes\n",
    "    Returns:\n",
    "        means: Means of the classes\n",
    "    \"\"\"\n",
    "    means = []\n",
    "    for i in range(num_classes):\n",
    "        class_idx = np.where(labels == i)[0]\n",
    "        means.append(np.mean(data[class_idx], axis=0))\n",
    "    return np.array(means)"
   ]
  },
  {
   "cell_type": "code",
   "execution_count": 13,
   "metadata": {},
   "outputs": [],
   "source": [
    "def compute_cov(data, labels, class_means):\n",
    "    \"\"\"\n",
    "    Computes an unbiased estimator for the common covariance matrix.\n",
    "    Args\n",
    "        data: The input data\n",
    "        labels: The given classes of each data point\n",
    "        class_means: Means of the classes\n",
    "    Returns:\n",
    "        cov: Unbiased estimator for the common covariance matrix\n",
    "    \"\"\"\n",
    "    K = np.size(class_means) # number of classes\n",
    "    N, F = data.shape\n",
    "    cov = np.zeros((F, F))\n",
    "    for k in range(K):\n",
    "        for x_i in data[np.where(labels == k)[0]]:\n",
    "            cov += x_i.reshape(-1, 1).dot(x_i.reshape(-1, 1).T)\n",
    "    cov /= (N - K)\n",
    "    return cov"
   ]
  },
  {
   "cell_type": "code",
   "execution_count": 14,
   "metadata": {},
   "outputs": [],
   "source": [
    "def LDA_predictor(x, cov, mean_k, k, labels):\n",
    "    \"\"\"\n",
    "    Computes the class discriminant.\n",
    "    Args:\n",
    "        x: The input data point \n",
    "        cov: Covariance matrix of the data\n",
    "        mean_k: Mean of the input class\n",
    "        k: The input class\n",
    "        labels: The input data labels\n",
    "    Returns:\n",
    "        delta: Class discriminant\n",
    "    \"\"\"\n",
    "    # Compute the prior probability of class k\n",
    "    pi_k = np.size(labels[labels == k]) /np.size(labels)\n",
    "    if np.size(x) == 1:\n",
    "        cov_inv = np.array([[1 / cov]])\n",
    "    else:\n",
    "        cov_inv = np.linalg.inv(cov)\n",
    "    delta = np.log(pi_k) - mean_k.T.dot(cov_inv).dot(mean_k) / 2 \n",
    "    delta += x.T.dot(cov_inv).dot(mean_k)\n",
    "    return delta"
   ]
  },
  {
   "cell_type": "code",
   "execution_count": 15,
   "metadata": {},
   "outputs": [],
   "source": [
    "def LDA_binary_boundary(data, labels):\n",
    "    \"\"\"\n",
    "    Computes a LDA-based binary classification boundary.\n",
    "    Args:\n",
    "        data: The input data\n",
    "        labels: The class of each data point\n",
    "    Returns: \n",
    "        x_vals: x coordinate values of the linear boundary\n",
    "        y_vals: y coordinate values of the linear boundary\n",
    "    \"\"\"\n",
    "    means = compute_class_means(data, labels, 2)\n",
    "    cov = compute_cov(data, labels, means)\n",
    "    min_x, max_x = np.min(data[:, 0]), np.max(data[:, 0])\n",
    "    min_y, max_y = np.min(data[:, 1]), np.max(data[:, 1]) \n",
    "    x_vals = np.linspace(min_x, max_x, 500) \n",
    "    y_vals = []\n",
    "    for x in x_vals:\n",
    "        y_vals.append(bisect(\n",
    "            lambda y: LDA_predictor(np.array([x, y]), cov, means[0], 0, labels) - \n",
    "            LDA_predictor(np.array([x, y]), cov, means[1], 1, labels),\n",
    "            min_y - np.sign(min_y) * 10 * min_y, max_y + np.sign(max_y) * 10 * max_y))    \n",
    "    return x_vals, np.array(y_vals)"
   ]
  },
  {
   "cell_type": "code",
   "execution_count": 16,
   "metadata": {},
   "outputs": [],
   "source": [
    "def LDA_classifier(x, train, labels, num_classes=2):\n",
    "    \"\"\"\n",
    "    Computes class prediction for an input using LDA-based binary classification.\n",
    "    Args:\n",
    "        x: The input data point\n",
    "        train: The training data\n",
    "        labels: The class of each training data point\n",
    "        num_classes: Number of classes in the prediction process (default is 2)\n",
    "    Returns: \n",
    "        class_: Class predicted for input based on binary LDA classifier\n",
    "    \"\"\"\n",
    "    means = compute_class_means(train, labels, num_classes)\n",
    "    cov = compute_cov(train, labels, means)\n",
    "    deltas = []\n",
    "    for k in range(num_classes):\n",
    "        deltas.append(LDA_predictor(x, cov, means[k], k, labels))\n",
    "    class_ = np.argmax(np.array(deltas))\n",
    "    return class_"
   ]
  },
  {
   "cell_type": "code",
   "execution_count": 17,
   "metadata": {},
   "outputs": [],
   "source": [
    "x_vals_euclidean, y_vals_euclidean = LDA_binary_boundary(X_euclidean, stype - 1)"
   ]
  },
  {
   "cell_type": "code",
   "execution_count": 18,
   "metadata": {
    "scrolled": false
   },
   "outputs": [
    {
     "data": {
      "image/png": "[encoded data removed]",
      "text/plain": [
       "<Figure size 432x288 with 1 Axes>"
      ]
     },
     "metadata": {},
     "output_type": "display_data"
    }
   ],
   "source": [
    "figure_num = 1\n",
    "plt.figure(figure_num)\n",
    "figure_num += 1\n",
    "plt.plot(x_vals_euclidean, y_vals_euclidean, color='r', linestyle='--')\n",
    "plt.scatter(X_face_euclidean[:, 0], X_face_euclidean[:, 1], s=20, marker='o', c='b')\n",
    "plt.scatter(X_building_euclidean[:, 0], X_building_euclidean[:, 1], s=20, marker='s', c='g')\n",
    "plt.xlabel('Projections onto the First MDS Component')\n",
    "plt.ylabel('Projections onto the Second MDS Component')\n",
    "plt.title('MDS Analysis of the Response Patterns (Euclidean)')\n",
    "plt.legend(['LDA decision\\nboundary', 'face', 'building', ])\n",
    "plt.show(block=False)"
   ]
  },
  {
   "cell_type": "code",
   "execution_count": 19,
   "metadata": {},
   "outputs": [],
   "source": [
    "def CV_leave_one_out(data, labels):\n",
    "    \"\"\"\n",
    "    Performs leave one out cross validation and returns the count\n",
    "    of correct classifications.\n",
    "    Args:\n",
    "        data: The input data\n",
    "        labels: The original labels of the data points\n",
    "    Returns:\n",
    "        correct_count: The number of correct classifications\n",
    "    \"\"\"\n",
    "    correct_count = 0\n",
    "    for i, test in enumerate(data):\n",
    "        idx = np.arange(data.shape[0]) != i\n",
    "        train = data[idx]\n",
    "        train_labels = labels[idx]\n",
    "        class_of_test = LDA_classifier(test, train, train_labels)\n",
    "        correct_count += (class_of_test == labels[i])\n",
    "    return correct_count"
   ]
  },
  {
   "cell_type": "code",
   "execution_count": 20,
   "metadata": {},
   "outputs": [],
   "source": [
    "N = X_euclidean.shape[0]"
   ]
  },
  {
   "cell_type": "code",
   "execution_count": 21,
   "metadata": {},
   "outputs": [
    {
     "name": "stdout",
     "output_type": "stream",
     "text": [
      "Leave one out cross validation results (euclidean):\n",
      "157 class labels predicted correctly out of 181\n",
      "Prediction accuracy: 86.74%\n"
     ]
    }
   ],
   "source": [
    "correct_count_euclidean = CV_leave_one_out(X_euclidean, stype - 1)\n",
    "print('Leave one out cross validation results (euclidean):')\n",
    "print('%d class labels predicted correctly out of %d' % (correct_count_euclidean, N))\n",
    "print('Prediction accuracy: %.2f%%' % (100 * correct_count_euclidean / N))"
   ]
  },
  {
   "cell_type": "code",
   "execution_count": 22,
   "metadata": {},
   "outputs": [
    {
     "name": "stdout",
     "output_type": "stream",
     "text": [
      "PART B\n"
     ]
    }
   ],
   "source": [
    "# PART B\n",
    "print('PART B')"
   ]
  },
  {
   "cell_type": "code",
   "execution_count": 23,
   "metadata": {},
   "outputs": [],
   "source": [
    "# Compute similarity matrix using correlation metric\n",
    "sim_correlation = cdist(vresp, vresp, metric='correlation')"
   ]
  },
  {
   "cell_type": "code",
   "execution_count": 24,
   "metadata": {},
   "outputs": [],
   "source": [
    "# Run classical MDS\n",
    "MDS_correlation = cmdscale(sim_correlation)"
   ]
  },
  {
   "cell_type": "code",
   "execution_count": 25,
   "metadata": {},
   "outputs": [],
   "source": [
    "# Get the projections onto the first two MDS components\n",
    "X_correlation = MDS_correlation[:, 0:2]\n",
    "# Normalize correlation data\n",
    "X_correlation[:, 0] = (X_correlation[:, 0] - np.mean(X_correlation[:, 0])) / np.std(X_correlation[:, 0])\n",
    "X_correlation[:, 1] = (X_correlation[:, 1] - np.mean(X_correlation[:, 1])) / np.std(X_correlation[:, 1])"
   ]
  },
  {
   "cell_type": "code",
   "execution_count": 26,
   "metadata": {},
   "outputs": [],
   "source": [
    "# Separate data with different labels\n",
    "X_face_correlation = X_correlation[FACE_INDICES]\n",
    "X_building_correlation = X_correlation[BUILDING_INDICES]"
   ]
  },
  {
   "cell_type": "code",
   "execution_count": 27,
   "metadata": {},
   "outputs": [],
   "source": [
    "x_vals_correlation, y_vals_correlation = LDA_binary_boundary(X_correlation, stype - 1)"
   ]
  },
  {
   "cell_type": "code",
   "execution_count": 28,
   "metadata": {
    "scrolled": true
   },
   "outputs": [
    {
     "data": {
      "image/png": "[encoded data removed]",
      "text/plain": [
       "<Figure size 432x288 with 1 Axes>"
      ]
     },
     "metadata": {},
     "output_type": "display_data"
    }
   ],
   "source": [
    "plt.figure(figure_num)\n",
    "figure_num += 1\n",
    "plt.scatter(X_face_correlation[:, 0], X_face_correlation[:, 1], s=20, marker='o', c='b')\n",
    "plt.scatter(X_building_correlation[:, 0], X_building_correlation[:, 1], s=20, marker='s', c='g')\n",
    "plt_axis = plt.axis()\n",
    "plt.plot(x_vals_correlation, y_vals_correlation, color='r', linestyle='--')\n",
    "plt.axis(plt_axis)\n",
    "plt.xlabel('Projections onto the First MDS Component')\n",
    "plt.ylabel('Projections onto the Second MDS Component')\n",
    "plt.title('MDS Analysis of the Response Patterns (Correlation)')\n",
    "plt.legend(['LDA decision\\nboundary', 'face', 'building', ])\n",
    "plt.show(block=False)"
   ]
  },
  {
   "cell_type": "code",
   "execution_count": 29,
   "metadata": {},
   "outputs": [
    {
     "name": "stdout",
     "output_type": "stream",
     "text": [
      "Leave one out cross validation results (correlation):\n",
      "172 class labels predicted correctly out of 181\n",
      "Prediction accuracy: 95.03%\n"
     ]
    }
   ],
   "source": [
    "correct_count_correlation = CV_leave_one_out(X_correlation, stype - 1)\n",
    "print('Leave one out cross validation results (correlation):')\n",
    "print('%d class labels predicted correctly out of %d' % (correct_count_correlation, N))\n",
    "print('Prediction accuracy: %.2f%%' % (100 * correct_count_correlation / N))"
   ]
  },
  {
   "cell_type": "code",
   "execution_count": 30,
   "metadata": {},
   "outputs": [
    {
     "name": "stdout",
     "output_type": "stream",
     "text": [
      "PART C\n"
     ]
    }
   ],
   "source": [
    "# PART C\n",
    "print('PART C')"
   ]
  },
  {
   "cell_type": "code",
   "execution_count": 31,
   "metadata": {
    "scrolled": true
   },
   "outputs": [
    {
     "name": "stdout",
     "output_type": "stream",
     "text": [
      "Leave one out cross validation results on 1 dimensional MDS representation (correlation):\n",
      "168 class labels predicted correctly out of 181\n",
      "Prediction accuracy: 92.82%\n",
      "\n",
      "Leave one out cross validation results on 2 dimensional MDS representation (correlation):\n",
      "172 class labels predicted correctly out of 181\n",
      "Prediction accuracy: 95.03%\n",
      "\n",
      "Leave one out cross validation results on 3 dimensional MDS representation (correlation):\n",
      "170 class labels predicted correctly out of 181\n",
      "Prediction accuracy: 93.92%\n",
      "\n",
      "Leave one out cross validation results on 4 dimensional MDS representation (correlation):\n",
      "170 class labels predicted correctly out of 181\n",
      "Prediction accuracy: 93.92%\n",
      "\n",
      "Leave one out cross validation results on 5 dimensional MDS representation (correlation):\n",
      "170 class labels predicted correctly out of 181\n",
      "Prediction accuracy: 93.92%\n",
      "\n"
     ]
    }
   ],
   "source": [
    "# Test LDA classification performance on MDS representations in different dimensions\n",
    "accuracies = []\n",
    "for i in range(1, 6):\n",
    "    X_corr = MDS_correlation[:, 0:i]\n",
    "    correct_count_correlation = CV_leave_one_out(X_corr, stype - 1)\n",
    "    print('Leave one out cross validation results on %d dimensional MDS representation (correlation):' % i)\n",
    "    print('%d class labels predicted correctly out of %d' % (correct_count_correlation, N))\n",
    "    prediction_accuracy = 100 * correct_count_correlation / N\n",
    "    print('Prediction accuracy: %.2f%%\\n' % prediction_accuracy)\n",
    "    accuracies.append(prediction_accuracy)\n",
    "accuracies = np.array(accuracies).flatten()"
   ]
  },
  {
   "cell_type": "code",
   "execution_count": 32,
   "metadata": {
    "scrolled": true
   },
   "outputs": [
    {
     "data": {
      "image/png": "[encoded data removed]",
      "text/plain": [
       "<Figure size 432x288 with 1 Axes>"
      ]
     },
     "metadata": {},
     "output_type": "display_data"
    }
   ],
   "source": [
    "plt.figure(figure_num)\n",
    "figure_num += 1\n",
    "plt.bar(np.arange(1, 6), accuracies, width=0.5, edgecolor='black', color=['r','orange', 'g', 'b', 'y'])\n",
    "plt.xlabel('Dimension of MDS representation')\n",
    "plt.ylabel('Percentage prediction accuracy')\n",
    "plt.title('Percentage Accuracy vs Dimension of MDS representation')\n",
    "plt.ylim(90, 100)\n",
    "plt.show(block=False)"
   ]
  },
  {
   "cell_type": "code",
   "execution_count": 33,
   "metadata": {},
   "outputs": [],
   "source": [
    "plt.show()"
   ]
  }
 ],
 "metadata": {
  "kernelspec": {
   "display_name": "Python 3",
   "language": "python",
   "name": "python3"
  },
  "language_info": {
   "codemirror_mode": {
    "name": "ipython",
    "version": 3
   },
   "file_extension": ".py",
   "mimetype": "text/x-python",
   "name": "python",
   "nbconvert_exporter": "python",
   "pygments_lexer": "ipython3",
   "version": "3.6.5"
  }
 },
 "nbformat": 4,
 "nbformat_minor": 2
}
